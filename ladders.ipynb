{
 "cells": [
  {
   "cell_type": "code",
   "execution_count": 2,
   "id": "9fd34165-b5ed-4f01-8089-ec696616468a",
   "metadata": {},
   "outputs": [],
   "source": [
    "engineering_ladders_levels_markdown=\"\"\"## Levels\n",
    "\n",
    "### Technology\n",
    "\n",
    "1.  **Adopts**: actively learns and adopts the technology and tools defined by the team\n",
    "2.  **Specializes**: is the go-to person for one or more technologies and takes initiative to learn new ones\n",
    "3.  **Evangelizes**: researches, creates proofs of concept and introduces new technologies to the team\n",
    "4.  **Masters**: has very deep knowledge about the whole technology stack of the system\n",
    "5.  **Creates**: designs and creates new technologies that are widely used either by internal or external teams\n",
    "\n",
    "### System\n",
    "\n",
    "1.  **Enhances**: successfully pushes new features and bug fixes to improve and extend the system\n",
    "2.  **Designs**: designs and implements medium to large size features while reducing the system’s tech debt\n",
    "3.  **Owns**: owns the production operation and monitoring of the system and is aware of its SLAs\n",
    "4.  **Evolves**: evolves the architecture to support future requirements and defines its SLAs\n",
    "5.  **Leads**: leads the technical excellence of the system and creates plans to mitigate outages\n",
    "\n",
    "### People\n",
    "\n",
    "1.  **Learns**: quickly learns from others and consistently steps up when it is required\n",
    "2.  **Supports**: proactively supports other team members and helps them to be successful\n",
    "3.  **Mentors**: mentors others to accelerate their career-growth and encourages them to participate\n",
    "4.  **Coordinates**: coordinates team members providing effective feedback and moderating discussions\n",
    "5.  **Manages**: manages the team members’ career, expectations, performance and level of happiness\n",
    "\n",
    "### Process\n",
    "\n",
    "1.  **Follows**: follows the team processes, delivering a consistent flow of features to production\n",
    "2.  **Enforces**: enforces the team processes, making sure everybody understands the benefits and tradeoffs\n",
    "3.  **Challenges**: challenges the team processes, looking for ways to improve them\n",
    "4.  **Adjusts**: adjusts the team processes, listening to feedback and guiding the team through the changes\n",
    "5.  **Defines**: defines the right processes for the team’s maturity level, balancing agility and discipline\n",
    "\n",
    "### Influence\n",
    "\n",
    "1.  **Subsystem**: makes an impact on one or more subsystems\n",
    "2.  **Team**: makes an impact on the whole team, not just on specific parts of it\n",
    "3.  **Multiple Teams**: makes an impact not only his/her team but also on other teams\n",
    "4.  **Company**: makes an impact on the whole tech organization\n",
    "5.  **Community**: makes an impact on the tech communityy\n",
    "\"\"\""
   ]
  },
  {
   "cell_type": "code",
   "execution_count": 3,
   "id": "63f0adc0",
   "metadata": {},
   "outputs": [
    {
     "data": {
      "text/markdown": [
       "## Levels\n",
       "\n",
       "### Technology\n",
       "\n",
       "1.  **Adopts**: actively learns and adopts the technology and tools defined by the team\n",
       "2.  **Specializes**: is the go-to person for one or more technologies and takes initiative to learn new ones\n",
       "3.  **Evangelizes**: researches, creates proofs of concept and introduces new technologies to the team\n",
       "4.  **Masters**: has very deep knowledge about the whole technology stack of the system\n",
       "5.  **Creates**: designs and creates new technologies that are widely used either by internal or external teams\n",
       "\n",
       "### System\n",
       "\n",
       "1.  **Enhances**: successfully pushes new features and bug fixes to improve and extend the system\n",
       "2.  **Designs**: designs and implements medium to large size features while reducing the system’s tech debt\n",
       "3.  **Owns**: owns the production operation and monitoring of the system and is aware of its SLAs\n",
       "4.  **Evolves**: evolves the architecture to support future requirements and defines its SLAs\n",
       "5.  **Leads**: leads the technical excellence of the system and creates plans to mitigate outages\n",
       "\n",
       "### People\n",
       "\n",
       "1.  **Learns**: quickly learns from others and consistently steps up when it is required\n",
       "2.  **Supports**: proactively supports other team members and helps them to be successful\n",
       "3.  **Mentors**: mentors others to accelerate their career-growth and encourages them to participate\n",
       "4.  **Coordinates**: coordinates team members providing effective feedback and moderating discussions\n",
       "5.  **Manages**: manages the team members’ career, expectations, performance and level of happiness\n",
       "\n",
       "### Process\n",
       "\n",
       "1.  **Follows**: follows the team processes, delivering a consistent flow of features to production\n",
       "2.  **Enforces**: enforces the team processes, making sure everybody understands the benefits and tradeoffs\n",
       "3.  **Challenges**: challenges the team processes, looking for ways to improve them\n",
       "4.  **Adjusts**: adjusts the team processes, listening to feedback and guiding the team through the changes\n",
       "5.  **Defines**: defines the right processes for the team’s maturity level, balancing agility and discipline\n",
       "\n",
       "### Influence\n",
       "\n",
       "1.  **Subsystem**: makes an impact on one or more subsystems\n",
       "2.  **Team**: makes an impact on the whole team, not just on specific parts of it\n",
       "3.  **Multiple Teams**: makes an impact not only his/her team but also on other teams\n",
       "4.  **Company**: makes an impact on the whole tech organization\n",
       "5.  **Community**: makes an impact on the tech communityy\n"
      ],
      "text/plain": [
       "<IPython.core.display.Markdown object>"
      ]
     },
     "execution_count": 3,
     "metadata": {},
     "output_type": "execute_result"
    }
   ],
   "source": [
    "from IPython.display import Markdown\n",
    "Markdown(engineering_ladders_levels_markdown)"
   ]
  },
  {
   "cell_type": "code",
   "execution_count": 4,
   "id": "a4894ac7-e96c-4948-95b9-1deb3342896c",
   "metadata": {},
   "outputs": [
    {
     "data": {
      "text/markdown": [
       "FAQs\n",
       "====\n",
       "\n",
       "**What if some of the people don’t meet all the points?**\n",
       "\n",
       "That is very normal, people are usually stronger in some areas and weaker in others. The framework should not be used as a checklist to promote people but instead as guidance to have meaningful career conversations.\n",
       "\n",
       "**What if my organization’s career ladder is different?**\n",
       "\n",
       "Since the framework is open source, you have the opportunity to adapt it to your organization. Feel free to use the [chart template](/charts/template.png) to define your own levels.\n",
       "\n",
       "**When is a person ready to move to the next level?**\n",
       "\n",
       "Companies usually expect a person to be performing at the next level _consistently for several months_ before formalizing a promotion.\n",
       "\n",
       "**How do I collect evidence to support the discussion with my direct reports?**\n",
       "\n",
       "Different teams collect evidence in different ways. A recommended approach is to use a combination of:\n",
       "\n",
       "*   1:1 conversations\n",
       "*   Feedback from peers and other teams\n",
       "*   Self-evaluation\n",
       "\n",
       "**Could the framework provide more specific examples of behavior to support each level?**\n",
       "\n",
       "Specific examples of behavior require knowledge about the way that the team works, the system architecture and its technology stack. It is recommended to allow each team to define their own examples.\n",
       "\n",
       "**Why does the framework stop at level 7?**\n",
       "\n",
       "Levels 8 and above vary drastically from company to company. Organizations of different sizes tend to assign a diverse level of scope to positions so high in their structure.\n",
       "\n",
       "**Do you have any additional resources about the topic?**\n",
       "\n",
       "*   [The Manager’s Path](http://shop.oreilly.com/product/0636920056843.do): Camille Fournier does an excellent job at describing the expectations and challenges of many engineering positions. Also, she provides good advice about writing a career ladder in chapter 9.\n",
       "    \n",
       "*   [How to Be Good at Performance Appraisals](https://store.hbr.org/product/how-to-be-good-at-performance-appraisals-simple-effective-done-right/10295): Dick Grote explains in simple terms how to define job responsibilities and how to evaluate performance (results and behaviors).\n",
       "    "
      ],
      "text/plain": [
       "<IPython.core.display.Markdown object>"
      ]
     },
     "execution_count": 4,
     "metadata": {},
     "output_type": "execute_result"
    }
   ],
   "source": [
    "engineering_ladders_faqs_markdown = \"\"\"FAQs\n",
    "====\n",
    "\n",
    "**What if some of the people don’t meet all the points?**\n",
    "\n",
    "That is very normal, people are usually stronger in some areas and weaker in others. The framework should not be used as a checklist to promote people but instead as guidance to have meaningful career conversations.\n",
    "\n",
    "**What if my organization’s career ladder is different?**\n",
    "\n",
    "Since the framework is open source, you have the opportunity to adapt it to your organization. Feel free to use the [chart template](/charts/template.png) to define your own levels.\n",
    "\n",
    "**When is a person ready to move to the next level?**\n",
    "\n",
    "Companies usually expect a person to be performing at the next level _consistently for several months_ before formalizing a promotion.\n",
    "\n",
    "**How do I collect evidence to support the discussion with my direct reports?**\n",
    "\n",
    "Different teams collect evidence in different ways. A recommended approach is to use a combination of:\n",
    "\n",
    "*   1:1 conversations\n",
    "*   Feedback from peers and other teams\n",
    "*   Self-evaluation\n",
    "\n",
    "**Could the framework provide more specific examples of behavior to support each level?**\n",
    "\n",
    "Specific examples of behavior require knowledge about the way that the team works, the system architecture and its technology stack. It is recommended to allow each team to define their own examples.\n",
    "\n",
    "**Why does the framework stop at level 7?**\n",
    "\n",
    "Levels 8 and above vary drastically from company to company. Organizations of different sizes tend to assign a diverse level of scope to positions so high in their structure.\n",
    "\n",
    "**Do you have any additional resources about the topic?**\n",
    "\n",
    "*   [The Manager’s Path](http://shop.oreilly.com/product/0636920056843.do): Camille Fournier does an excellent job at describing the expectations and challenges of many engineering positions. Also, she provides good advice about writing a career ladder in chapter 9.\n",
    "    \n",
    "*   [How to Be Good at Performance Appraisals](https://store.hbr.org/product/how-to-be-good-at-performance-appraisals-simple-effective-done-right/10295): Dick Grote explains in simple terms how to define job responsibilities and how to evaluate performance (results and behaviors).\n",
    "    \"\"\"\n",
    "\n",
    "Markdown(engineering_ladders_faqs_markdown)"
   ]
  },
  {
   "cell_type": "code",
   "execution_count": 5,
   "id": "060ffeaf-a343-41d3-90b2-22179592b71b",
   "metadata": {},
   "outputs": [],
   "source": [
    "from enum import auto, Enum, IntEnum\n",
    "import numpy as np"
   ]
  },
  {
   "cell_type": "code",
   "execution_count": 6,
   "id": "80da863a-8983-4a3a-a181-d2eaa41f3d52",
   "metadata": {},
   "outputs": [
    {
     "name": "stdout",
     "output_type": "stream",
     "text": [
      "Value: 1, Description: Actively learns and adopts the technology and tools defined by the team\n"
     ]
    }
   ],
   "source": [
    "from enum import IntEnum, auto, EnumMeta\n",
    "\n",
    "class DescriptiveIntEnum(IntEnum):\n",
    "    def __new__(cls, description):\n",
    "        obj = int.__new__(cls, len(cls.__members__) + 1)\n",
    "        obj._value_ = len(cls.__members__) + 1\n",
    "        obj.description = description\n",
    "        return obj\n",
    "\n",
    "class Technology(DescriptiveIntEnum):\n",
    "    ADOPTS = \"Actively learns and adopts the technology and tools defined by the team\"\n",
    "    SPECIALIZES = \"Is the go-to person for one or more technologies and takes initiative to learn new ones\"\n",
    "    EVANGELIZES = \"Researches, creates proofs of concept and introduces new technologies to the team\"\n",
    "    MASTERS = \"Has very deep knowledge about the whole technology stack of the system\"\n",
    "    CREATES = \"Designs and creates new technologies that are widely used either by internal or external teams\"\n",
    "\n",
    "class System(DescriptiveIntEnum):\n",
    "    ENHANCES = \"Successfully pushes new features and bug fixes to improve and extend the system\"\n",
    "    DESIGNS = \"Designs and implements medium to large size features while reducing the system’s tech debt\"\n",
    "    OWNS = \"Owns the production operation and monitoring of the system and is aware of its SLAs\"\n",
    "    EVOLVES = \"Evolves the architecture to support future requirements and defines its SLAs\"\n",
    "    LEADS = \"Leads the technical excellence of the system and creates plans to mitigate outages\"\n",
    "\n",
    "class People(DescriptiveIntEnum):\n",
    "    LEARNS = \"Quickly learns from others and consistently steps up when it is required\"\n",
    "    SUPPORTS = \"Proactively supports other team members and helps them to be successful\"\n",
    "    MENTORS = \"Mentors others to accelerate their career-growth and encourages them to participate\"\n",
    "    COORDINATES = \"Coordinates team members providing effective feedback and moderating discussions\"\n",
    "    MANAGES = \"Manages the team members’ career, expectations, performance and level of happiness\"\n",
    "\n",
    "class Process(DescriptiveIntEnum):\n",
    "    FOLLOWS = \"Follows the team processes, delivering a consistent flow of features to production\"\n",
    "    ENFORCES = \"Enforces the team processes, making sure everybody understands the benefits and tradeoffs\"\n",
    "    CHALLENGES = \"Challenges the team processes, looking for ways to improve them\"\n",
    "    ADJUSTS = \"Adjusts the team processes, listening to feedback and guiding the team through the changes\"\n",
    "    DEFINES = \"Defines the right processes for the team’s maturity level, balancing agility and discipline\"\n",
    "\n",
    "class Influence(DescriptiveIntEnum):\n",
    "    SUBSYSTEM = \"Makes an impact on one or more subsystems\"\n",
    "    TEAM = \"Makes an impact on the whole team, not just on specific parts of it\"\n",
    "    MULTIPLE_TEAMS = \"Makes an impact not only his/her team but also on other teams\"\n",
    "    COMPANY = \"Makes an impact on the whole tech organization\"\n",
    "    COMMUNITY = \"Makes an impact on the tech community\"\n",
    "\n",
    "# Example of how to access a description and numeric value\n",
    "example_tech = Technology.ADOPTS\n",
    "print(f\"Value: {example_tech.value}, Description: {example_tech.description}\")\n"
   ]
  },
  {
   "cell_type": "code",
   "execution_count": 7,
   "id": "b4455f67",
   "metadata": {},
   "outputs": [],
   "source": [
    "ATTRIBUTES = [Technology, Process, System, Influence, People]"
   ]
  },
  {
   "cell_type": "code",
   "execution_count": 8,
   "id": "c29cc637-eef8-47c7-86d9-cf52dede9f36",
   "metadata": {},
   "outputs": [],
   "source": [
    "import pandas as pd\n",
    "import plotly.express as px"
   ]
  },
  {
   "cell_type": "code",
   "execution_count": 9,
   "id": "144cfa02-1ac8-45bf-81df-2d0270fc73a9",
   "metadata": {},
   "outputs": [],
   "source": [
    "from pydantic.dataclasses import dataclass\n",
    "\n",
    "@dataclass\n",
    "class Engineer:\n",
    "    technology: Technology\n",
    "    system: System\n",
    "    people: People\n",
    "    process: Process\n",
    "    influence: Influence\n",
    "    title: str = None\n",
    "    level: int = None\n",
    "    senior: bool = None\n",
    "\n",
    "    def to_pandas(self):\n",
    "        axes = [{\n",
    "            \"axis\": ladder.__class__.__name__, \n",
    "            \"name\":ladder.name, \n",
    "            \"value\": ladder.value,\n",
    "            \"description\": ladder.description,\n",
    "        } for field, ladder in self.enums.items()]\n",
    "        return pd.DataFrame(axes).assign(**{k:v for k,v in self.__dict__.items() if not isinstance(v, Enum)})\n",
    "\n",
    "    @property\n",
    "    def enums(self):\n",
    "        return {name: value for name, value in self.__dict__.items() if isinstance(value, Enum)}\n",
    "\n",
    "    @property\n",
    "    def __dataframe__(self):\n",
    "        return self.to_pandas()\n",
    "    \n",
    "    def __sub__(self, other) -> list[int]:\n",
    "        return ((this-that) for this, that in zip(self.enums.values(), other.enums.values()))"
   ]
  },
  {
   "cell_type": "code",
   "execution_count": 10,
   "id": "f9ad800f-71bc-4fb5-b322-515e5026441c",
   "metadata": {},
   "outputs": [],
   "source": [
    "# Define Engineer instances representing different career stages\n",
    "senior_engineer = Engineer(\n",
    "    technology=Technology.MASTERS,\n",
    "    system=System.LEADS,\n",
    "    people=People.MENTORS,\n",
    "    process=Process.DEFINES,\n",
    "    influence=Influence.TEAM,\n",
    "    title=\"Senior Engineer\"\n",
    ")\n",
    "\n",
    "mid_level_engineer = Engineer(\n",
    "    technology=Technology.SPECIALIZES,\n",
    "    system=System.DESIGNS,\n",
    "    people=People.SUPPORTS,\n",
    "    process=Process.ENFORCES,\n",
    "    influence=Influence.SUBSYSTEM,\n",
    "    title=\"Intermediate Engineer\"\n",
    ")\n",
    "\n",
    "junior_engineer = Engineer(\n",
    "    technology=Technology.ADOPTS,\n",
    "    system=System.ENHANCES,\n",
    "    people=People.LEARNS,\n",
    "    process=Process.FOLLOWS,\n",
    "    influence=Influence.COMMUNITY,\n",
    "    title=\"Jr. Engineer\"    \n",
    ")"
   ]
  },
  {
   "cell_type": "code",
   "execution_count": 11,
   "id": "237c11ef",
   "metadata": {},
   "outputs": [],
   "source": [
    "import numpy as np\n",
    "def distance(engineer1: Engineer, engineer2: Engineer) -> float:\n",
    "    return np.sqrt(np.power(np.fromiter(engineer1 - engineer2, dtype=int), 2).sum())"
   ]
  },
  {
   "cell_type": "code",
   "execution_count": 12,
   "id": "23895ab7-55e0-4e43-a153-84d136899910",
   "metadata": {},
   "outputs": [],
   "source": [
    "# Create Engineer objects for each developer level\n",
    "developer_levels = [\n",
    "    Engineer(level=1, title='D1 - Developer 1', senior=False, \n",
    "             technology=Technology.ADOPTS, system=System.ENHANCES, \n",
    "             people=People.LEARNS, process=Process.FOLLOWS, influence=Influence.SUBSYSTEM),\n",
    "\n",
    "    Engineer(level=2, title='D2 - Developer 2', senior=False, \n",
    "             technology=Technology.ADOPTS, system=System.DESIGNS, \n",
    "             people=People.SUPPORTS, process=Process.ENFORCES, influence=Influence.SUBSYSTEM),\n",
    "\n",
    "    Engineer(level=3, title='D3 - Developer 3', senior=False, \n",
    "             technology=Technology.SPECIALIZES, system=System.DESIGNS, \n",
    "             people=People.SUPPORTS, process=Process.CHALLENGES, influence=Influence.TEAM),\n",
    "\n",
    "    Engineer(level=4, title='D4 - Developer 4', senior=True, \n",
    "             technology=Technology.EVANGELIZES, system=System.OWNS, \n",
    "             people=People.MENTORS, process=Process.CHALLENGES, influence=Influence.TEAM),\n",
    "\n",
    "    Engineer(level=5, title='D5 - Developer 5', senior=True, \n",
    "             technology=Technology.MASTERS, system=System.EVOLVES, \n",
    "             people=People.MENTORS, process=Process.ADJUSTS, influence=Influence.MULTIPLE_TEAMS),\n",
    "\n",
    "    Engineer(level=6, title='D6 - Developer 6', senior=True, \n",
    "             technology=Technology.CREATES, system=System.LEADS, \n",
    "             people=People.MENTORS, process=Process.ADJUSTS, influence=Influence.COMPANY),\n",
    "\n",
    "    Engineer(level=7, title='D7 - Developer 7', senior=True, \n",
    "             technology=Technology.CREATES, system=System.LEADS, \n",
    "             people=People.MENTORS, process=Process.ADJUSTS, influence=Influence.COMMUNITY)\n",
    "]\n",
    "\n",
    "tech_lead_levels = [\n",
    "    Engineer(level=4, title='TL4 - Tech Lead 4', senior=True, \n",
    "             technology=Technology.SPECIALIZES, system=System.OWNS, \n",
    "             people=People.COORDINATES, process=Process.ADJUSTS, influence=Influence.SUBSYSTEM),\n",
    "\n",
    "    Engineer(level=5, title='TL5 - Tech Lead 5', senior=True, \n",
    "             technology=Technology.EVANGELIZES, system=System.EVOLVES, \n",
    "             people=People.COORDINATES, process=Process.DEFINES, influence=Influence.TEAM),\n",
    "\n",
    "    Engineer(level=6, title='TL6 - Tech Lead 6', senior=True, \n",
    "             technology=Technology.MASTERS, system=System.LEADS, \n",
    "             people=People.COORDINATES, process=Process.DEFINES, influence=Influence.MULTIPLE_TEAMS),\n",
    "\n",
    "    Engineer(level=7, title='TL7 - Tech Lead 7', senior=True, \n",
    "             technology=Technology.MASTERS, system=System.LEADS, \n",
    "             people=People.COORDINATES, process=Process.DEFINES, influence=Influence.COMPANY)\n",
    "]\n",
    "\n",
    "technical_program_manager_levels = [\n",
    "    Engineer(level=4, title='TPM4 - Technical Program Manager 4', senior=True, \n",
    "             technology=Technology.SPECIALIZES, system=System.DESIGNS, \n",
    "             people=People.COORDINATES, process=Process.ADJUSTS, influence=Influence.MULTIPLE_TEAMS),\n",
    "\n",
    "    Engineer(level=5, title='TPM5 - Technical Program Manager 5', senior=True, \n",
    "             technology=Technology.SPECIALIZES, system=System.DESIGNS, \n",
    "             people=People.COORDINATES, process=Process.DEFINES, influence=Influence.MULTIPLE_TEAMS),\n",
    "\n",
    "    Engineer(level=6, title='TPM6 - Technical Program Manager 6', senior=True, \n",
    "             technology=Technology.SPECIALIZES, system=System.OWNS, \n",
    "             people=People.MANAGES, process=Process.DEFINES, influence=Influence.COMPANY),\n",
    "\n",
    "    Engineer(level=7, title='TPM7 - Technical Program Manager 7', senior=True, \n",
    "             technology=Technology.SPECIALIZES, system=System.EVOLVES, \n",
    "             people=People.MANAGES, process=Process.DEFINES, influence=Influence.COMMUNITY)\n",
    "]\n",
    "\n",
    "engineering_manager_levels = [\n",
    "    Engineer(level=5, title='EM5 - Engineering Manager 5', senior=True, \n",
    "             technology=Technology.EVANGELIZES, system=System.OWNS, \n",
    "             people=People.MANAGES, process=Process.ADJUSTS, influence=Influence.TEAM),\n",
    "\n",
    "    Engineer(level=6, title='EM6 - Engineering Manager 6', senior=True, \n",
    "             technology=Technology.EVANGELIZES, system=System.EVOLVES, \n",
    "             people=People.MANAGES, process=Process.DEFINES, influence=Influence.TEAM),\n",
    "\n",
    "    Engineer(level=7, title='EM7 - Engineering Manager 7', senior=True, \n",
    "             technology=Technology.EVANGELIZES, system=System.EVOLVES, \n",
    "             people=People.MANAGES, process=Process.DEFINES, influence=Influence.MULTIPLE_TEAMS)\n",
    "]"
   ]
  },
  {
   "cell_type": "code",
   "execution_count": 13,
   "id": "135ab7f4-af8f-4bcf-bff9-cb15e0b2f81f",
   "metadata": {},
   "outputs": [],
   "source": [
    "engineer = junior_engineer\n",
    "# engineer = mid_level_engineer\n",
    "# engineer = senior_engineer"
   ]
  },
  {
   "cell_type": "code",
   "execution_count": 14,
   "id": "04d1add2-6068-431b-8f88-9ed4292fb21a",
   "metadata": {},
   "outputs": [],
   "source": [
    "engineers = developer_levels"
   ]
  },
  {
   "cell_type": "code",
   "execution_count": 15,
   "id": "fcac0438-14cc-480c-b0a3-55b02c41f14e",
   "metadata": {},
   "outputs": [],
   "source": [
    "from more_itertools import always_iterable"
   ]
  },
  {
   "cell_type": "code",
   "execution_count": 16,
   "id": "d6e72de9-d53f-464e-8516-f487cea0ee94",
   "metadata": {},
   "outputs": [],
   "source": [
    "import plotly.graph_objects as go\n",
    "\n",
    "def generate_polar_axes_annotations() -> go.Scatterpolar:\n",
    "    annotation_info = zip(\n",
    "        *(\n",
    "            (enum.__class__.__name__, enum.value, enum.name.replace(\"_\",\" \").title(), enum.description)\n",
    "            for enum in (\n",
    "                Technology.__members__\n",
    "                | System.__members__\n",
    "                | People.__members__\n",
    "                | Process.__members__\n",
    "                | Influence.__members__\n",
    "            ).values()\n",
    "        )\n",
    "    )\n",
    "    theta, r, text, description = annotation_info\n",
    "    \n",
    "    annotations = go.Scatterpolar(\n",
    "        r=r,\n",
    "        theta=theta,\n",
    "        text=text,\n",
    "        mode=\"text\",\n",
    "        hovertemplate=description,\n",
    "        textposition=\"top center\",\n",
    "        #opacity=0.8,\n",
    "        name=\"Levels\"\n",
    "    )\n",
    "    return annotations\n",
    "\n",
    "def style_polar_figure_axes(fig: go.Figure) -> go.Figure:\n",
    "    annotations = generate_polar_axes_annotations()\n",
    "\n",
    "    fig.update_layout(\n",
    "        polar=dict(\n",
    "            gridshape=\"linear\",\n",
    "            radialaxis=go.layout.polar.RadialAxis(\n",
    "                visible=True, range=[0, 6], dtick=1, showline=False, showticklabels=False#, labelalias=labelaliases\n",
    "            ),\n",
    "            angularaxis=go.layout.polar.AngularAxis(\n",
    "                tickfont=go.layout.polar.angularaxis.Tickfont(size=30),  # Change font size here\n",
    "                rotation=15\n",
    "            ),\n",
    "        ),\n",
    "        # showlegend=False\n",
    "    )\n",
    "    fig.add_trace(annotations)\n",
    "    fig.data = fig.data[::-1] # place axis labels behind\n",
    "    return fig\n",
    "\n",
    "def plot_engineering_ladders(engineers: list[Engineer] | Engineer, **pxkwargs) -> go.Figure:\n",
    "    engineers = list(always_iterable(engineers))\n",
    "    engineers_df = pd.concat(eng.__dataframe__ for eng in engineers)\n",
    "    fig = px.line_polar(\n",
    "        engineers_df,\n",
    "        r=\"value\",\n",
    "        theta=\"axis\",\n",
    "        hover_name=pxkwargs.pop(\"hover_name\", \"name\"),\n",
    "        hover_data=pxkwargs.pop(\"hover_data\", [\"description\"]),\n",
    "        line_close=True,\n",
    "        color=\"title\",\n",
    "        **pxkwargs\n",
    "    ).update_traces(fill='toself', opacity=max(0.5, 1/len(engineers))) # this seems to break hovering\n",
    "    \n",
    "    # fig\n",
    "    return style_polar_figure_axes(fig)"
   ]
  },
  {
   "cell_type": "code",
   "execution_count": 17,
   "id": "7869dfca-a078-4809-9a8b-650eaed6c13e",
   "metadata": {},
   "outputs": [
    {
     "data": {
      "application/vnd.plotly.v1+json": {
       "config": {
        "plotlyServerURL": "https://plot.ly"
       },
       "data": [
        {
         "hovertemplate": [
          "Actively learns and adopts the technology and tools defined by the team",
          "Is the go-to person for one or more technologies and takes initiative to learn new ones",
          "Researches, creates proofs of concept and introduces new technologies to the team",
          "Has very deep knowledge about the whole technology stack of the system",
          "Designs and creates new technologies that are widely used either by internal or external teams",
          "Successfully pushes new features and bug fixes to improve and extend the system",
          "Designs and implements medium to large size features while reducing the system’s tech debt",
          "Owns the production operation and monitoring of the system and is aware of its SLAs",
          "Evolves the architecture to support future requirements and defines its SLAs",
          "Leads the technical excellence of the system and creates plans to mitigate outages",
          "Quickly learns from others and consistently steps up when it is required",
          "Proactively supports other team members and helps them to be successful",
          "Mentors others to accelerate their career-growth and encourages them to participate",
          "Coordinates team members providing effective feedback and moderating discussions",
          "Manages the team members’ career, expectations, performance and level of happiness",
          "Follows the team processes, delivering a consistent flow of features to production",
          "Enforces the team processes, making sure everybody understands the benefits and tradeoffs",
          "Challenges the team processes, looking for ways to improve them",
          "Adjusts the team processes, listening to feedback and guiding the team through the changes",
          "Defines the right processes for the team’s maturity level, balancing agility and discipline",
          "Makes an impact on one or more subsystems",
          "Makes an impact on the whole team, not just on specific parts of it",
          "Makes an impact not only his/her team but also on other teams",
          "Makes an impact on the whole tech organization",
          "Makes an impact on the tech community"
         ],
         "mode": "text",
         "name": "Levels",
         "r": [
          1,
          2,
          3,
          4,
          5,
          1,
          2,
          3,
          4,
          5,
          1,
          2,
          3,
          4,
          5,
          1,
          2,
          3,
          4,
          5,
          1,
          2,
          3,
          4,
          5
         ],
         "text": [
          "Adopts",
          "Specializes",
          "Evangelizes",
          "Masters",
          "Creates",
          "Enhances",
          "Designs",
          "Owns",
          "Evolves",
          "Leads",
          "Learns",
          "Supports",
          "Mentors",
          "Coordinates",
          "Manages",
          "Follows",
          "Enforces",
          "Challenges",
          "Adjusts",
          "Defines",
          "Subsystem",
          "Team",
          "Multiple Teams",
          "Company",
          "Community"
         ],
         "textposition": "top center",
         "theta": [
          "Technology",
          "Technology",
          "Technology",
          "Technology",
          "Technology",
          "System",
          "System",
          "System",
          "System",
          "System",
          "People",
          "People",
          "People",
          "People",
          "People",
          "Process",
          "Process",
          "Process",
          "Process",
          "Process",
          "Influence",
          "Influence",
          "Influence",
          "Influence",
          "Influence"
         ],
         "type": "scatterpolar"
        },
        {
         "customdata": [
          [
           "Is the go-to person for one or more technologies and takes initiative to learn new ones"
          ],
          [
           "Evolves the architecture to support future requirements and defines its SLAs"
          ],
          [
           "Manages the team members’ career, expectations, performance and level of happiness"
          ],
          [
           "Defines the right processes for the team’s maturity level, balancing agility and discipline"
          ],
          [
           "Makes an impact on the tech community"
          ],
          [
           "Is the go-to person for one or more technologies and takes initiative to learn new ones"
          ]
         ],
         "fill": "toself",
         "hovertemplate": "<b>%{hovertext}</b><br><br>title=TPM7 - Technical Program Manager 7<br>value=%{r}<br>axis=%{theta}<br>description=%{customdata[0]}<extra></extra>",
         "hovertext": [
          "SPECIALIZES",
          "EVOLVES",
          "MANAGES",
          "DEFINES",
          "COMMUNITY",
          "SPECIALIZES"
         ],
         "legendgroup": "TPM7 - Technical Program Manager 7",
         "line": {
          "color": "#ab63fa",
          "dash": "solid"
         },
         "marker": {
          "symbol": "x"
         },
         "mode": "lines+markers",
         "name": "TPM7 - Technical Program Manager 7",
         "opacity": 0.5,
         "r": [
          2,
          4,
          5,
          5,
          5,
          2
         ],
         "showlegend": true,
         "subplot": "polar",
         "theta": [
          "Technology",
          "System",
          "People",
          "Process",
          "Influence",
          "Technology"
         ],
         "type": "scatterpolar"
        },
        {
         "customdata": [
          [
           "Is the go-to person for one or more technologies and takes initiative to learn new ones"
          ],
          [
           "Owns the production operation and monitoring of the system and is aware of its SLAs"
          ],
          [
           "Manages the team members’ career, expectations, performance and level of happiness"
          ],
          [
           "Defines the right processes for the team’s maturity level, balancing agility and discipline"
          ],
          [
           "Makes an impact on the whole tech organization"
          ],
          [
           "Is the go-to person for one or more technologies and takes initiative to learn new ones"
          ]
         ],
         "fill": "toself",
         "hovertemplate": "<b>%{hovertext}</b><br><br>title=TPM6 - Technical Program Manager 6<br>value=%{r}<br>axis=%{theta}<br>description=%{customdata[0]}<extra></extra>",
         "hovertext": [
          "SPECIALIZES",
          "OWNS",
          "MANAGES",
          "DEFINES",
          "COMPANY",
          "SPECIALIZES"
         ],
         "legendgroup": "TPM6 - Technical Program Manager 6",
         "line": {
          "color": "#00cc96",
          "dash": "solid"
         },
         "marker": {
          "symbol": "square"
         },
         "mode": "lines+markers",
         "name": "TPM6 - Technical Program Manager 6",
         "opacity": 0.5,
         "r": [
          2,
          3,
          5,
          5,
          4,
          2
         ],
         "showlegend": true,
         "subplot": "polar",
         "theta": [
          "Technology",
          "System",
          "People",
          "Process",
          "Influence",
          "Technology"
         ],
         "type": "scatterpolar"
        },
        {
         "customdata": [
          [
           "Is the go-to person for one or more technologies and takes initiative to learn new ones"
          ],
          [
           "Designs and implements medium to large size features while reducing the system’s tech debt"
          ],
          [
           "Coordinates team members providing effective feedback and moderating discussions"
          ],
          [
           "Defines the right processes for the team’s maturity level, balancing agility and discipline"
          ],
          [
           "Makes an impact not only his/her team but also on other teams"
          ],
          [
           "Is the go-to person for one or more technologies and takes initiative to learn new ones"
          ]
         ],
         "fill": "toself",
         "hovertemplate": "<b>%{hovertext}</b><br><br>title=TPM5 - Technical Program Manager 5<br>value=%{r}<br>axis=%{theta}<br>description=%{customdata[0]}<extra></extra>",
         "hovertext": [
          "SPECIALIZES",
          "DESIGNS",
          "COORDINATES",
          "DEFINES",
          "MULTIPLE_TEAMS",
          "SPECIALIZES"
         ],
         "legendgroup": "TPM5 - Technical Program Manager 5",
         "line": {
          "color": "#EF553B",
          "dash": "solid"
         },
         "marker": {
          "symbol": "diamond"
         },
         "mode": "lines+markers",
         "name": "TPM5 - Technical Program Manager 5",
         "opacity": 0.5,
         "r": [
          2,
          2,
          4,
          5,
          3,
          2
         ],
         "showlegend": true,
         "subplot": "polar",
         "theta": [
          "Technology",
          "System",
          "People",
          "Process",
          "Influence",
          "Technology"
         ],
         "type": "scatterpolar"
        },
        {
         "customdata": [
          [
           "Is the go-to person for one or more technologies and takes initiative to learn new ones"
          ],
          [
           "Designs and implements medium to large size features while reducing the system’s tech debt"
          ],
          [
           "Coordinates team members providing effective feedback and moderating discussions"
          ],
          [
           "Adjusts the team processes, listening to feedback and guiding the team through the changes"
          ],
          [
           "Makes an impact not only his/her team but also on other teams"
          ],
          [
           "Is the go-to person for one or more technologies and takes initiative to learn new ones"
          ]
         ],
         "fill": "toself",
         "hovertemplate": "<b>%{hovertext}</b><br><br>title=TPM4 - Technical Program Manager 4<br>value=%{r}<br>axis=%{theta}<br>description=%{customdata[0]}<extra></extra>",
         "hovertext": [
          "SPECIALIZES",
          "DESIGNS",
          "COORDINATES",
          "ADJUSTS",
          "MULTIPLE_TEAMS",
          "SPECIALIZES"
         ],
         "legendgroup": "TPM4 - Technical Program Manager 4",
         "line": {
          "color": "#636efa",
          "dash": "solid"
         },
         "marker": {
          "symbol": "circle"
         },
         "mode": "lines+markers",
         "name": "TPM4 - Technical Program Manager 4",
         "opacity": 0.5,
         "r": [
          2,
          2,
          4,
          4,
          3,
          2
         ],
         "showlegend": true,
         "subplot": "polar",
         "theta": [
          "Technology",
          "System",
          "People",
          "Process",
          "Influence",
          "Technology"
         ],
         "type": "scatterpolar"
        }
       ],
       "layout": {
        "height": 500,
        "legend": {
         "title": {
          "text": "title"
         },
         "tracegroupgap": 0
        },
        "margin": {
         "t": 60
        },
        "polar": {
         "angularaxis": {
          "rotation": 15,
          "tickfont": {
           "size": 30
          }
         },
         "domain": {
          "x": [
           0,
           1
          ],
          "y": [
           0,
           1
          ]
         },
         "gridshape": "linear",
         "radialaxis": {
          "dtick": 1,
          "range": [
           0,
           6
          ],
          "showline": false,
          "showticklabels": false,
          "visible": true
         }
        },
        "template": {
         "data": {
          "bar": [
           {
            "error_x": {
             "color": "#f2f5fa"
            },
            "error_y": {
             "color": "#f2f5fa"
            },
            "marker": {
             "line": {
              "color": "rgb(17,17,17)",
              "width": 0.5
             },
             "pattern": {
              "fillmode": "overlay",
              "size": 10,
              "solidity": 0.2
             }
            },
            "type": "bar"
           }
          ],
          "barpolar": [
           {
            "marker": {
             "line": {
              "color": "rgb(17,17,17)",
              "width": 0.5
             },
             "pattern": {
              "fillmode": "overlay",
              "size": 10,
              "solidity": 0.2
             }
            },
            "type": "barpolar"
           }
          ],
          "carpet": [
           {
            "aaxis": {
             "endlinecolor": "#A2B1C6",
             "gridcolor": "#506784",
             "linecolor": "#506784",
             "minorgridcolor": "#506784",
             "startlinecolor": "#A2B1C6"
            },
            "baxis": {
             "endlinecolor": "#A2B1C6",
             "gridcolor": "#506784",
             "linecolor": "#506784",
             "minorgridcolor": "#506784",
             "startlinecolor": "#A2B1C6"
            },
            "type": "carpet"
           }
          ],
          "choropleth": [
           {
            "colorbar": {
             "outlinewidth": 0,
             "ticks": ""
            },
            "type": "choropleth"
           }
          ],
          "contour": [
           {
            "colorbar": {
             "outlinewidth": 0,
             "ticks": ""
            },
            "colorscale": [
             [
              0,
              "#0d0887"
             ],
             [
              0.1111111111111111,
              "#46039f"
             ],
             [
              0.2222222222222222,
              "#7201a8"
             ],
             [
              0.3333333333333333,
              "#9c179e"
             ],
             [
              0.4444444444444444,
              "#bd3786"
             ],
             [
              0.5555555555555556,
              "#d8576b"
             ],
             [
              0.6666666666666666,
              "#ed7953"
             ],
             [
              0.7777777777777778,
              "#fb9f3a"
             ],
             [
              0.8888888888888888,
              "#fdca26"
             ],
             [
              1,
              "#f0f921"
             ]
            ],
            "type": "contour"
           }
          ],
          "contourcarpet": [
           {
            "colorbar": {
             "outlinewidth": 0,
             "ticks": ""
            },
            "type": "contourcarpet"
           }
          ],
          "heatmap": [
           {
            "colorbar": {
             "outlinewidth": 0,
             "ticks": ""
            },
            "colorscale": [
             [
              0,
              "#0d0887"
             ],
             [
              0.1111111111111111,
              "#46039f"
             ],
             [
              0.2222222222222222,
              "#7201a8"
             ],
             [
              0.3333333333333333,
              "#9c179e"
             ],
             [
              0.4444444444444444,
              "#bd3786"
             ],
             [
              0.5555555555555556,
              "#d8576b"
             ],
             [
              0.6666666666666666,
              "#ed7953"
             ],
             [
              0.7777777777777778,
              "#fb9f3a"
             ],
             [
              0.8888888888888888,
              "#fdca26"
             ],
             [
              1,
              "#f0f921"
             ]
            ],
            "type": "heatmap"
           }
          ],
          "heatmapgl": [
           {
            "colorbar": {
             "outlinewidth": 0,
             "ticks": ""
            },
            "colorscale": [
             [
              0,
              "#0d0887"
             ],
             [
              0.1111111111111111,
              "#46039f"
             ],
             [
              0.2222222222222222,
              "#7201a8"
             ],
             [
              0.3333333333333333,
              "#9c179e"
             ],
             [
              0.4444444444444444,
              "#bd3786"
             ],
             [
              0.5555555555555556,
              "#d8576b"
             ],
             [
              0.6666666666666666,
              "#ed7953"
             ],
             [
              0.7777777777777778,
              "#fb9f3a"
             ],
             [
              0.8888888888888888,
              "#fdca26"
             ],
             [
              1,
              "#f0f921"
             ]
            ],
            "type": "heatmapgl"
           }
          ],
          "histogram": [
           {
            "marker": {
             "pattern": {
              "fillmode": "overlay",
              "size": 10,
              "solidity": 0.2
             }
            },
            "type": "histogram"
           }
          ],
          "histogram2d": [
           {
            "colorbar": {
             "outlinewidth": 0,
             "ticks": ""
            },
            "colorscale": [
             [
              0,
              "#0d0887"
             ],
             [
              0.1111111111111111,
              "#46039f"
             ],
             [
              0.2222222222222222,
              "#7201a8"
             ],
             [
              0.3333333333333333,
              "#9c179e"
             ],
             [
              0.4444444444444444,
              "#bd3786"
             ],
             [
              0.5555555555555556,
              "#d8576b"
             ],
             [
              0.6666666666666666,
              "#ed7953"
             ],
             [
              0.7777777777777778,
              "#fb9f3a"
             ],
             [
              0.8888888888888888,
              "#fdca26"
             ],
             [
              1,
              "#f0f921"
             ]
            ],
            "type": "histogram2d"
           }
          ],
          "histogram2dcontour": [
           {
            "colorbar": {
             "outlinewidth": 0,
             "ticks": ""
            },
            "colorscale": [
             [
              0,
              "#0d0887"
             ],
             [
              0.1111111111111111,
              "#46039f"
             ],
             [
              0.2222222222222222,
              "#7201a8"
             ],
             [
              0.3333333333333333,
              "#9c179e"
             ],
             [
              0.4444444444444444,
              "#bd3786"
             ],
             [
              0.5555555555555556,
              "#d8576b"
             ],
             [
              0.6666666666666666,
              "#ed7953"
             ],
             [
              0.7777777777777778,
              "#fb9f3a"
             ],
             [
              0.8888888888888888,
              "#fdca26"
             ],
             [
              1,
              "#f0f921"
             ]
            ],
            "type": "histogram2dcontour"
           }
          ],
          "mesh3d": [
           {
            "colorbar": {
             "outlinewidth": 0,
             "ticks": ""
            },
            "type": "mesh3d"
           }
          ],
          "parcoords": [
           {
            "line": {
             "colorbar": {
              "outlinewidth": 0,
              "ticks": ""
             }
            },
            "type": "parcoords"
           }
          ],
          "pie": [
           {
            "automargin": true,
            "type": "pie"
           }
          ],
          "scatter": [
           {
            "marker": {
             "line": {
              "color": "#283442"
             }
            },
            "type": "scatter"
           }
          ],
          "scatter3d": [
           {
            "line": {
             "colorbar": {
              "outlinewidth": 0,
              "ticks": ""
             }
            },
            "marker": {
             "colorbar": {
              "outlinewidth": 0,
              "ticks": ""
             }
            },
            "type": "scatter3d"
           }
          ],
          "scattercarpet": [
           {
            "marker": {
             "colorbar": {
              "outlinewidth": 0,
              "ticks": ""
             }
            },
            "type": "scattercarpet"
           }
          ],
          "scattergeo": [
           {
            "marker": {
             "colorbar": {
              "outlinewidth": 0,
              "ticks": ""
             }
            },
            "type": "scattergeo"
           }
          ],
          "scattergl": [
           {
            "marker": {
             "line": {
              "color": "#283442"
             }
            },
            "type": "scattergl"
           }
          ],
          "scattermapbox": [
           {
            "marker": {
             "colorbar": {
              "outlinewidth": 0,
              "ticks": ""
             }
            },
            "type": "scattermapbox"
           }
          ],
          "scatterpolar": [
           {
            "marker": {
             "colorbar": {
              "outlinewidth": 0,
              "ticks": ""
             }
            },
            "type": "scatterpolar"
           }
          ],
          "scatterpolargl": [
           {
            "marker": {
             "colorbar": {
              "outlinewidth": 0,
              "ticks": ""
             }
            },
            "type": "scatterpolargl"
           }
          ],
          "scatterternary": [
           {
            "marker": {
             "colorbar": {
              "outlinewidth": 0,
              "ticks": ""
             }
            },
            "type": "scatterternary"
           }
          ],
          "surface": [
           {
            "colorbar": {
             "outlinewidth": 0,
             "ticks": ""
            },
            "colorscale": [
             [
              0,
              "#0d0887"
             ],
             [
              0.1111111111111111,
              "#46039f"
             ],
             [
              0.2222222222222222,
              "#7201a8"
             ],
             [
              0.3333333333333333,
              "#9c179e"
             ],
             [
              0.4444444444444444,
              "#bd3786"
             ],
             [
              0.5555555555555556,
              "#d8576b"
             ],
             [
              0.6666666666666666,
              "#ed7953"
             ],
             [
              0.7777777777777778,
              "#fb9f3a"
             ],
             [
              0.8888888888888888,
              "#fdca26"
             ],
             [
              1,
              "#f0f921"
             ]
            ],
            "type": "surface"
           }
          ],
          "table": [
           {
            "cells": {
             "fill": {
              "color": "#506784"
             },
             "line": {
              "color": "rgb(17,17,17)"
             }
            },
            "header": {
             "fill": {
              "color": "#2a3f5f"
             },
             "line": {
              "color": "rgb(17,17,17)"
             }
            },
            "type": "table"
           }
          ]
         },
         "layout": {
          "annotationdefaults": {
           "arrowcolor": "#f2f5fa",
           "arrowhead": 0,
           "arrowwidth": 1
          },
          "autotypenumbers": "strict",
          "coloraxis": {
           "colorbar": {
            "outlinewidth": 0,
            "ticks": ""
           }
          },
          "colorscale": {
           "diverging": [
            [
             0,
             "#8e0152"
            ],
            [
             0.1,
             "#c51b7d"
            ],
            [
             0.2,
             "#de77ae"
            ],
            [
             0.3,
             "#f1b6da"
            ],
            [
             0.4,
             "#fde0ef"
            ],
            [
             0.5,
             "#f7f7f7"
            ],
            [
             0.6,
             "#e6f5d0"
            ],
            [
             0.7,
             "#b8e186"
            ],
            [
             0.8,
             "#7fbc41"
            ],
            [
             0.9,
             "#4d9221"
            ],
            [
             1,
             "#276419"
            ]
           ],
           "sequential": [
            [
             0,
             "#0d0887"
            ],
            [
             0.1111111111111111,
             "#46039f"
            ],
            [
             0.2222222222222222,
             "#7201a8"
            ],
            [
             0.3333333333333333,
             "#9c179e"
            ],
            [
             0.4444444444444444,
             "#bd3786"
            ],
            [
             0.5555555555555556,
             "#d8576b"
            ],
            [
             0.6666666666666666,
             "#ed7953"
            ],
            [
             0.7777777777777778,
             "#fb9f3a"
            ],
            [
             0.8888888888888888,
             "#fdca26"
            ],
            [
             1,
             "#f0f921"
            ]
           ],
           "sequentialminus": [
            [
             0,
             "#0d0887"
            ],
            [
             0.1111111111111111,
             "#46039f"
            ],
            [
             0.2222222222222222,
             "#7201a8"
            ],
            [
             0.3333333333333333,
             "#9c179e"
            ],
            [
             0.4444444444444444,
             "#bd3786"
            ],
            [
             0.5555555555555556,
             "#d8576b"
            ],
            [
             0.6666666666666666,
             "#ed7953"
            ],
            [
             0.7777777777777778,
             "#fb9f3a"
            ],
            [
             0.8888888888888888,
             "#fdca26"
            ],
            [
             1,
             "#f0f921"
            ]
           ]
          },
          "colorway": [
           "#636efa",
           "#EF553B",
           "#00cc96",
           "#ab63fa",
           "#FFA15A",
           "#19d3f3",
           "#FF6692",
           "#B6E880",
           "#FF97FF",
           "#FECB52"
          ],
          "font": {
           "color": "#f2f5fa"
          },
          "geo": {
           "bgcolor": "rgb(17,17,17)",
           "lakecolor": "rgb(17,17,17)",
           "landcolor": "rgb(17,17,17)",
           "showlakes": true,
           "showland": true,
           "subunitcolor": "#506784"
          },
          "hoverlabel": {
           "align": "left"
          },
          "hovermode": "closest",
          "mapbox": {
           "style": "dark"
          },
          "paper_bgcolor": "rgb(17,17,17)",
          "plot_bgcolor": "rgb(17,17,17)",
          "polar": {
           "angularaxis": {
            "gridcolor": "#506784",
            "linecolor": "#506784",
            "ticks": ""
           },
           "bgcolor": "rgb(17,17,17)",
           "radialaxis": {
            "gridcolor": "#506784",
            "linecolor": "#506784",
            "ticks": ""
           }
          },
          "scene": {
           "xaxis": {
            "backgroundcolor": "rgb(17,17,17)",
            "gridcolor": "#506784",
            "gridwidth": 2,
            "linecolor": "#506784",
            "showbackground": true,
            "ticks": "",
            "zerolinecolor": "#C8D4E3"
           },
           "yaxis": {
            "backgroundcolor": "rgb(17,17,17)",
            "gridcolor": "#506784",
            "gridwidth": 2,
            "linecolor": "#506784",
            "showbackground": true,
            "ticks": "",
            "zerolinecolor": "#C8D4E3"
           },
           "zaxis": {
            "backgroundcolor": "rgb(17,17,17)",
            "gridcolor": "#506784",
            "gridwidth": 2,
            "linecolor": "#506784",
            "showbackground": true,
            "ticks": "",
            "zerolinecolor": "#C8D4E3"
           }
          },
          "shapedefaults": {
           "line": {
            "color": "#f2f5fa"
           }
          },
          "sliderdefaults": {
           "bgcolor": "#C8D4E3",
           "bordercolor": "rgb(17,17,17)",
           "borderwidth": 1,
           "tickwidth": 0
          },
          "ternary": {
           "aaxis": {
            "gridcolor": "#506784",
            "linecolor": "#506784",
            "ticks": ""
           },
           "baxis": {
            "gridcolor": "#506784",
            "linecolor": "#506784",
            "ticks": ""
           },
           "bgcolor": "rgb(17,17,17)",
           "caxis": {
            "gridcolor": "#506784",
            "linecolor": "#506784",
            "ticks": ""
           }
          },
          "title": {
           "x": 0.05
          },
          "updatemenudefaults": {
           "bgcolor": "#506784",
           "borderwidth": 0
          },
          "xaxis": {
           "automargin": true,
           "gridcolor": "#283442",
           "linecolor": "#506784",
           "ticks": "",
           "title": {
            "standoff": 15
           },
           "zerolinecolor": "#283442",
           "zerolinewidth": 2
          },
          "yaxis": {
           "automargin": true,
           "gridcolor": "#283442",
           "linecolor": "#506784",
           "ticks": "",
           "title": {
            "standoff": 15
           },
           "zerolinecolor": "#283442",
           "zerolinewidth": 2
          }
         }
        }
       }
      }
     },
     "metadata": {},
     "output_type": "display_data"
    }
   ],
   "source": [
    "fig = plot_engineering_ladders(technical_program_manager_levels, template=\"plotly_dark\", height=500, symbol=\"title\")\n",
    "fig"
   ]
  },
  {
   "cell_type": "code",
   "execution_count": 18,
   "id": "03392568-3107-498a-b71e-7b63809003cc",
   "metadata": {},
   "outputs": [
    {
     "data": {
      "application/vnd.plotly.v1+json": {
       "config": {
        "plotlyServerURL": "https://plot.ly"
       },
       "data": [
        {
         "hovertemplate": [
          "Actively learns and adopts the technology and tools defined by the team",
          "Is the go-to person for one or more technologies and takes initiative to learn new ones",
          "Researches, creates proofs of concept and introduces new technologies to the team",
          "Has very deep knowledge about the whole technology stack of the system",
          "Designs and creates new technologies that are widely used either by internal or external teams",
          "Successfully pushes new features and bug fixes to improve and extend the system",
          "Designs and implements medium to large size features while reducing the system’s tech debt",
          "Owns the production operation and monitoring of the system and is aware of its SLAs",
          "Evolves the architecture to support future requirements and defines its SLAs",
          "Leads the technical excellence of the system and creates plans to mitigate outages",
          "Quickly learns from others and consistently steps up when it is required",
          "Proactively supports other team members and helps them to be successful",
          "Mentors others to accelerate their career-growth and encourages them to participate",
          "Coordinates team members providing effective feedback and moderating discussions",
          "Manages the team members’ career, expectations, performance and level of happiness",
          "Follows the team processes, delivering a consistent flow of features to production",
          "Enforces the team processes, making sure everybody understands the benefits and tradeoffs",
          "Challenges the team processes, looking for ways to improve them",
          "Adjusts the team processes, listening to feedback and guiding the team through the changes",
          "Defines the right processes for the team’s maturity level, balancing agility and discipline",
          "Makes an impact on one or more subsystems",
          "Makes an impact on the whole team, not just on specific parts of it",
          "Makes an impact not only his/her team but also on other teams",
          "Makes an impact on the whole tech organization",
          "Makes an impact on the tech community"
         ],
         "mode": "text",
         "name": "Levels",
         "r": [
          1,
          2,
          3,
          4,
          5,
          1,
          2,
          3,
          4,
          5,
          1,
          2,
          3,
          4,
          5,
          1,
          2,
          3,
          4,
          5,
          1,
          2,
          3,
          4,
          5
         ],
         "text": [
          "Adopts",
          "Specializes",
          "Evangelizes",
          "Masters",
          "Creates",
          "Enhances",
          "Designs",
          "Owns",
          "Evolves",
          "Leads",
          "Learns",
          "Supports",
          "Mentors",
          "Coordinates",
          "Manages",
          "Follows",
          "Enforces",
          "Challenges",
          "Adjusts",
          "Defines",
          "Subsystem",
          "Team",
          "Multiple Teams",
          "Company",
          "Community"
         ],
         "textposition": "top center",
         "theta": [
          "Technology",
          "Technology",
          "Technology",
          "Technology",
          "Technology",
          "System",
          "System",
          "System",
          "System",
          "System",
          "People",
          "People",
          "People",
          "People",
          "People",
          "Process",
          "Process",
          "Process",
          "Process",
          "Process",
          "Influence",
          "Influence",
          "Influence",
          "Influence",
          "Influence"
         ],
         "type": "scatterpolar"
        },
        {
         "customdata": [
          [
           "Actively learns and adopts the technology and tools defined by the team"
          ],
          [
           "Successfully pushes new features and bug fixes to improve and extend the system"
          ],
          [
           "Quickly learns from others and consistently steps up when it is required"
          ],
          [
           "Follows the team processes, delivering a consistent flow of features to production"
          ],
          [
           "Makes an impact on the tech community"
          ],
          [
           "Actively learns and adopts the technology and tools defined by the team"
          ]
         ],
         "fill": "toself",
         "hovertemplate": "<b>%{hovertext}</b><br><br>title=Jr. Engineer<br>value=%{r}<br>axis=%{theta}<br>description=%{customdata[0]}<extra></extra>",
         "hovertext": [
          "ADOPTS",
          "ENHANCES",
          "LEARNS",
          "FOLLOWS",
          "COMMUNITY",
          "ADOPTS"
         ],
         "legendgroup": "Jr. Engineer",
         "line": {
          "color": "#636efa",
          "dash": "solid"
         },
         "marker": {
          "symbol": "circle"
         },
         "mode": "lines",
         "name": "Jr. Engineer",
         "opacity": 1,
         "r": [
          1,
          1,
          1,
          1,
          5,
          1
         ],
         "showlegend": true,
         "subplot": "polar",
         "theta": [
          "Technology",
          "System",
          "People",
          "Process",
          "Influence",
          "Technology"
         ],
         "type": "scatterpolar"
        }
       ],
       "layout": {
        "height": 500,
        "legend": {
         "title": {
          "text": "title"
         },
         "tracegroupgap": 0
        },
        "margin": {
         "t": 60
        },
        "polar": {
         "angularaxis": {
          "rotation": 15,
          "tickfont": {
           "size": 30
          }
         },
         "domain": {
          "x": [
           0,
           1
          ],
          "y": [
           0,
           1
          ]
         },
         "gridshape": "linear",
         "radialaxis": {
          "dtick": 1,
          "range": [
           0,
           6
          ],
          "showline": false,
          "showticklabels": false,
          "visible": true
         }
        },
        "template": {
         "data": {
          "bar": [
           {
            "error_x": {
             "color": "#f2f5fa"
            },
            "error_y": {
             "color": "#f2f5fa"
            },
            "marker": {
             "line": {
              "color": "rgb(17,17,17)",
              "width": 0.5
             },
             "pattern": {
              "fillmode": "overlay",
              "size": 10,
              "solidity": 0.2
             }
            },
            "type": "bar"
           }
          ],
          "barpolar": [
           {
            "marker": {
             "line": {
              "color": "rgb(17,17,17)",
              "width": 0.5
             },
             "pattern": {
              "fillmode": "overlay",
              "size": 10,
              "solidity": 0.2
             }
            },
            "type": "barpolar"
           }
          ],
          "carpet": [
           {
            "aaxis": {
             "endlinecolor": "#A2B1C6",
             "gridcolor": "#506784",
             "linecolor": "#506784",
             "minorgridcolor": "#506784",
             "startlinecolor": "#A2B1C6"
            },
            "baxis": {
             "endlinecolor": "#A2B1C6",
             "gridcolor": "#506784",
             "linecolor": "#506784",
             "minorgridcolor": "#506784",
             "startlinecolor": "#A2B1C6"
            },
            "type": "carpet"
           }
          ],
          "choropleth": [
           {
            "colorbar": {
             "outlinewidth": 0,
             "ticks": ""
            },
            "type": "choropleth"
           }
          ],
          "contour": [
           {
            "colorbar": {
             "outlinewidth": 0,
             "ticks": ""
            },
            "colorscale": [
             [
              0,
              "#0d0887"
             ],
             [
              0.1111111111111111,
              "#46039f"
             ],
             [
              0.2222222222222222,
              "#7201a8"
             ],
             [
              0.3333333333333333,
              "#9c179e"
             ],
             [
              0.4444444444444444,
              "#bd3786"
             ],
             [
              0.5555555555555556,
              "#d8576b"
             ],
             [
              0.6666666666666666,
              "#ed7953"
             ],
             [
              0.7777777777777778,
              "#fb9f3a"
             ],
             [
              0.8888888888888888,
              "#fdca26"
             ],
             [
              1,
              "#f0f921"
             ]
            ],
            "type": "contour"
           }
          ],
          "contourcarpet": [
           {
            "colorbar": {
             "outlinewidth": 0,
             "ticks": ""
            },
            "type": "contourcarpet"
           }
          ],
          "heatmap": [
           {
            "colorbar": {
             "outlinewidth": 0,
             "ticks": ""
            },
            "colorscale": [
             [
              0,
              "#0d0887"
             ],
             [
              0.1111111111111111,
              "#46039f"
             ],
             [
              0.2222222222222222,
              "#7201a8"
             ],
             [
              0.3333333333333333,
              "#9c179e"
             ],
             [
              0.4444444444444444,
              "#bd3786"
             ],
             [
              0.5555555555555556,
              "#d8576b"
             ],
             [
              0.6666666666666666,
              "#ed7953"
             ],
             [
              0.7777777777777778,
              "#fb9f3a"
             ],
             [
              0.8888888888888888,
              "#fdca26"
             ],
             [
              1,
              "#f0f921"
             ]
            ],
            "type": "heatmap"
           }
          ],
          "heatmapgl": [
           {
            "colorbar": {
             "outlinewidth": 0,
             "ticks": ""
            },
            "colorscale": [
             [
              0,
              "#0d0887"
             ],
             [
              0.1111111111111111,
              "#46039f"
             ],
             [
              0.2222222222222222,
              "#7201a8"
             ],
             [
              0.3333333333333333,
              "#9c179e"
             ],
             [
              0.4444444444444444,
              "#bd3786"
             ],
             [
              0.5555555555555556,
              "#d8576b"
             ],
             [
              0.6666666666666666,
              "#ed7953"
             ],
             [
              0.7777777777777778,
              "#fb9f3a"
             ],
             [
              0.8888888888888888,
              "#fdca26"
             ],
             [
              1,
              "#f0f921"
             ]
            ],
            "type": "heatmapgl"
           }
          ],
          "histogram": [
           {
            "marker": {
             "pattern": {
              "fillmode": "overlay",
              "size": 10,
              "solidity": 0.2
             }
            },
            "type": "histogram"
           }
          ],
          "histogram2d": [
           {
            "colorbar": {
             "outlinewidth": 0,
             "ticks": ""
            },
            "colorscale": [
             [
              0,
              "#0d0887"
             ],
             [
              0.1111111111111111,
              "#46039f"
             ],
             [
              0.2222222222222222,
              "#7201a8"
             ],
             [
              0.3333333333333333,
              "#9c179e"
             ],
             [
              0.4444444444444444,
              "#bd3786"
             ],
             [
              0.5555555555555556,
              "#d8576b"
             ],
             [
              0.6666666666666666,
              "#ed7953"
             ],
             [
              0.7777777777777778,
              "#fb9f3a"
             ],
             [
              0.8888888888888888,
              "#fdca26"
             ],
             [
              1,
              "#f0f921"
             ]
            ],
            "type": "histogram2d"
           }
          ],
          "histogram2dcontour": [
           {
            "colorbar": {
             "outlinewidth": 0,
             "ticks": ""
            },
            "colorscale": [
             [
              0,
              "#0d0887"
             ],
             [
              0.1111111111111111,
              "#46039f"
             ],
             [
              0.2222222222222222,
              "#7201a8"
             ],
             [
              0.3333333333333333,
              "#9c179e"
             ],
             [
              0.4444444444444444,
              "#bd3786"
             ],
             [
              0.5555555555555556,
              "#d8576b"
             ],
             [
              0.6666666666666666,
              "#ed7953"
             ],
             [
              0.7777777777777778,
              "#fb9f3a"
             ],
             [
              0.8888888888888888,
              "#fdca26"
             ],
             [
              1,
              "#f0f921"
             ]
            ],
            "type": "histogram2dcontour"
           }
          ],
          "mesh3d": [
           {
            "colorbar": {
             "outlinewidth": 0,
             "ticks": ""
            },
            "type": "mesh3d"
           }
          ],
          "parcoords": [
           {
            "line": {
             "colorbar": {
              "outlinewidth": 0,
              "ticks": ""
             }
            },
            "type": "parcoords"
           }
          ],
          "pie": [
           {
            "automargin": true,
            "type": "pie"
           }
          ],
          "scatter": [
           {
            "marker": {
             "line": {
              "color": "#283442"
             }
            },
            "type": "scatter"
           }
          ],
          "scatter3d": [
           {
            "line": {
             "colorbar": {
              "outlinewidth": 0,
              "ticks": ""
             }
            },
            "marker": {
             "colorbar": {
              "outlinewidth": 0,
              "ticks": ""
             }
            },
            "type": "scatter3d"
           }
          ],
          "scattercarpet": [
           {
            "marker": {
             "colorbar": {
              "outlinewidth": 0,
              "ticks": ""
             }
            },
            "type": "scattercarpet"
           }
          ],
          "scattergeo": [
           {
            "marker": {
             "colorbar": {
              "outlinewidth": 0,
              "ticks": ""
             }
            },
            "type": "scattergeo"
           }
          ],
          "scattergl": [
           {
            "marker": {
             "line": {
              "color": "#283442"
             }
            },
            "type": "scattergl"
           }
          ],
          "scattermapbox": [
           {
            "marker": {
             "colorbar": {
              "outlinewidth": 0,
              "ticks": ""
             }
            },
            "type": "scattermapbox"
           }
          ],
          "scatterpolar": [
           {
            "marker": {
             "colorbar": {
              "outlinewidth": 0,
              "ticks": ""
             }
            },
            "type": "scatterpolar"
           }
          ],
          "scatterpolargl": [
           {
            "marker": {
             "colorbar": {
              "outlinewidth": 0,
              "ticks": ""
             }
            },
            "type": "scatterpolargl"
           }
          ],
          "scatterternary": [
           {
            "marker": {
             "colorbar": {
              "outlinewidth": 0,
              "ticks": ""
             }
            },
            "type": "scatterternary"
           }
          ],
          "surface": [
           {
            "colorbar": {
             "outlinewidth": 0,
             "ticks": ""
            },
            "colorscale": [
             [
              0,
              "#0d0887"
             ],
             [
              0.1111111111111111,
              "#46039f"
             ],
             [
              0.2222222222222222,
              "#7201a8"
             ],
             [
              0.3333333333333333,
              "#9c179e"
             ],
             [
              0.4444444444444444,
              "#bd3786"
             ],
             [
              0.5555555555555556,
              "#d8576b"
             ],
             [
              0.6666666666666666,
              "#ed7953"
             ],
             [
              0.7777777777777778,
              "#fb9f3a"
             ],
             [
              0.8888888888888888,
              "#fdca26"
             ],
             [
              1,
              "#f0f921"
             ]
            ],
            "type": "surface"
           }
          ],
          "table": [
           {
            "cells": {
             "fill": {
              "color": "#506784"
             },
             "line": {
              "color": "rgb(17,17,17)"
             }
            },
            "header": {
             "fill": {
              "color": "#2a3f5f"
             },
             "line": {
              "color": "rgb(17,17,17)"
             }
            },
            "type": "table"
           }
          ]
         },
         "layout": {
          "annotationdefaults": {
           "arrowcolor": "#f2f5fa",
           "arrowhead": 0,
           "arrowwidth": 1
          },
          "autotypenumbers": "strict",
          "coloraxis": {
           "colorbar": {
            "outlinewidth": 0,
            "ticks": ""
           }
          },
          "colorscale": {
           "diverging": [
            [
             0,
             "#8e0152"
            ],
            [
             0.1,
             "#c51b7d"
            ],
            [
             0.2,
             "#de77ae"
            ],
            [
             0.3,
             "#f1b6da"
            ],
            [
             0.4,
             "#fde0ef"
            ],
            [
             0.5,
             "#f7f7f7"
            ],
            [
             0.6,
             "#e6f5d0"
            ],
            [
             0.7,
             "#b8e186"
            ],
            [
             0.8,
             "#7fbc41"
            ],
            [
             0.9,
             "#4d9221"
            ],
            [
             1,
             "#276419"
            ]
           ],
           "sequential": [
            [
             0,
             "#0d0887"
            ],
            [
             0.1111111111111111,
             "#46039f"
            ],
            [
             0.2222222222222222,
             "#7201a8"
            ],
            [
             0.3333333333333333,
             "#9c179e"
            ],
            [
             0.4444444444444444,
             "#bd3786"
            ],
            [
             0.5555555555555556,
             "#d8576b"
            ],
            [
             0.6666666666666666,
             "#ed7953"
            ],
            [
             0.7777777777777778,
             "#fb9f3a"
            ],
            [
             0.8888888888888888,
             "#fdca26"
            ],
            [
             1,
             "#f0f921"
            ]
           ],
           "sequentialminus": [
            [
             0,
             "#0d0887"
            ],
            [
             0.1111111111111111,
             "#46039f"
            ],
            [
             0.2222222222222222,
             "#7201a8"
            ],
            [
             0.3333333333333333,
             "#9c179e"
            ],
            [
             0.4444444444444444,
             "#bd3786"
            ],
            [
             0.5555555555555556,
             "#d8576b"
            ],
            [
             0.6666666666666666,
             "#ed7953"
            ],
            [
             0.7777777777777778,
             "#fb9f3a"
            ],
            [
             0.8888888888888888,
             "#fdca26"
            ],
            [
             1,
             "#f0f921"
            ]
           ]
          },
          "colorway": [
           "#636efa",
           "#EF553B",
           "#00cc96",
           "#ab63fa",
           "#FFA15A",
           "#19d3f3",
           "#FF6692",
           "#B6E880",
           "#FF97FF",
           "#FECB52"
          ],
          "font": {
           "color": "#f2f5fa"
          },
          "geo": {
           "bgcolor": "rgb(17,17,17)",
           "lakecolor": "rgb(17,17,17)",
           "landcolor": "rgb(17,17,17)",
           "showlakes": true,
           "showland": true,
           "subunitcolor": "#506784"
          },
          "hoverlabel": {
           "align": "left"
          },
          "hovermode": "closest",
          "mapbox": {
           "style": "dark"
          },
          "paper_bgcolor": "rgb(17,17,17)",
          "plot_bgcolor": "rgb(17,17,17)",
          "polar": {
           "angularaxis": {
            "gridcolor": "#506784",
            "linecolor": "#506784",
            "ticks": ""
           },
           "bgcolor": "rgb(17,17,17)",
           "radialaxis": {
            "gridcolor": "#506784",
            "linecolor": "#506784",
            "ticks": ""
           }
          },
          "scene": {
           "xaxis": {
            "backgroundcolor": "rgb(17,17,17)",
            "gridcolor": "#506784",
            "gridwidth": 2,
            "linecolor": "#506784",
            "showbackground": true,
            "ticks": "",
            "zerolinecolor": "#C8D4E3"
           },
           "yaxis": {
            "backgroundcolor": "rgb(17,17,17)",
            "gridcolor": "#506784",
            "gridwidth": 2,
            "linecolor": "#506784",
            "showbackground": true,
            "ticks": "",
            "zerolinecolor": "#C8D4E3"
           },
           "zaxis": {
            "backgroundcolor": "rgb(17,17,17)",
            "gridcolor": "#506784",
            "gridwidth": 2,
            "linecolor": "#506784",
            "showbackground": true,
            "ticks": "",
            "zerolinecolor": "#C8D4E3"
           }
          },
          "shapedefaults": {
           "line": {
            "color": "#f2f5fa"
           }
          },
          "sliderdefaults": {
           "bgcolor": "#C8D4E3",
           "bordercolor": "rgb(17,17,17)",
           "borderwidth": 1,
           "tickwidth": 0
          },
          "ternary": {
           "aaxis": {
            "gridcolor": "#506784",
            "linecolor": "#506784",
            "ticks": ""
           },
           "baxis": {
            "gridcolor": "#506784",
            "linecolor": "#506784",
            "ticks": ""
           },
           "bgcolor": "rgb(17,17,17)",
           "caxis": {
            "gridcolor": "#506784",
            "linecolor": "#506784",
            "ticks": ""
           }
          },
          "title": {
           "x": 0.05
          },
          "updatemenudefaults": {
           "bgcolor": "#506784",
           "borderwidth": 0
          },
          "xaxis": {
           "automargin": true,
           "gridcolor": "#283442",
           "linecolor": "#506784",
           "ticks": "",
           "title": {
            "standoff": 15
           },
           "zerolinecolor": "#283442",
           "zerolinewidth": 2
          },
          "yaxis": {
           "automargin": true,
           "gridcolor": "#283442",
           "linecolor": "#506784",
           "ticks": "",
           "title": {
            "standoff": 15
           },
           "zerolinecolor": "#283442",
           "zerolinewidth": 2
          }
         }
        }
       }
      }
     },
     "metadata": {},
     "output_type": "display_data"
    }
   ],
   "source": [
    "fig = plot_engineering_ladders(engineer, template=\"plotly_dark\", height=500)\n",
    "fig"
   ]
  },
  {
   "cell_type": "markdown",
   "id": "d59eed6a-9e1d-4b01-93ed-1fc3b04cfbec",
   "metadata": {},
   "source": [
    "## Using It"
   ]
  },
  {
   "cell_type": "code",
   "execution_count": 19,
   "id": "269a0c63-3637-4307-9484-907854491b33",
   "metadata": {},
   "outputs": [],
   "source": [
    "me = Engineer(\n",
    "    technology=Technology.MASTERS,\n",
    "    system=System.EVOLVES,\n",
    "    people=People.MANAGES,\n",
    "    process=Process.DEFINES,\n",
    "    influence=Influence.COMMUNITY,\n",
    "    title=\"me\",\n",
    "    senior=True,\n",
    ")"
   ]
  },
  {
   "cell_type": "code",
   "execution_count": 20,
   "id": "95dc7081-e4a4-4f2f-8c62-810dd5544abe",
   "metadata": {},
   "outputs": [],
   "source": [
    "report = Engineer(\n",
    "    technology=Technology.SPECIALIZES,\n",
    "    system=System.OWNS,\n",
    "    people=People.COORDINATES,\n",
    "    process=Process.CHALLENGES,\n",
    "    influence=Influence.TEAM,\n",
    "    senior=False,\n",
    ")"
   ]
  },
  {
   "cell_type": "code",
   "execution_count": 21,
   "id": "fa44db11-6977-4cf2-a44c-01204b839e15",
   "metadata": {},
   "outputs": [],
   "source": [
    "def levels(min:int=1, max:int=7) -> list[Engineer]:\n",
    "    return (engineer for engineer in [*developer_levels, *technical_program_manager_levels, *tech_lead_levels, *engineering_manager_levels] if min <= engineer.level <= max)"
   ]
  },
  {
   "cell_type": "code",
   "execution_count": 22,
   "id": "72df9df8",
   "metadata": {},
   "outputs": [],
   "source": [
    "from more_itertools import take\n",
    "from itertools import islice"
   ]
  },
  {
   "cell_type": "code",
   "execution_count": 23,
   "id": "44edb978-44f4-4eae-bfc7-f595fa6fc7ee",
   "metadata": {},
   "outputs": [],
   "source": [
    "def levels_near(engineer: Engineer, n:int) -> list[Engineer]:\n",
    "    \"\"\"Returns similar levels in ladders to the engineer provided\n",
    "    \n",
    "    Notes\n",
    "    -----\n",
    "    This uses a simple euclidean distance calculation ... so ... keep that in mind\n",
    "    \"\"\"\n",
    "    \n",
    "    distances_to_levels = ((level, distance(engineer, level)) for level in levels())\n",
    "    sorted_levels = (l[0] for  l in sorted(distances_to_levels, key=lambda x: x[1]))\n",
    "    return take(n=n, iterable=sorted_levels)"
   ]
  },
  {
   "cell_type": "code",
   "execution_count": 24,
   "id": "92017564-41ee-4d6c-9f3e-0dc339601723",
   "metadata": {},
   "outputs": [
    {
     "data": {
      "application/vnd.plotly.v1+json": {
       "config": {
        "plotlyServerURL": "https://plot.ly"
       },
       "data": [
        {
         "hovertemplate": [
          "Actively learns and adopts the technology and tools defined by the team",
          "Is the go-to person for one or more technologies and takes initiative to learn new ones",
          "Researches, creates proofs of concept and introduces new technologies to the team",
          "Has very deep knowledge about the whole technology stack of the system",
          "Designs and creates new technologies that are widely used either by internal or external teams",
          "Successfully pushes new features and bug fixes to improve and extend the system",
          "Designs and implements medium to large size features while reducing the system’s tech debt",
          "Owns the production operation and monitoring of the system and is aware of its SLAs",
          "Evolves the architecture to support future requirements and defines its SLAs",
          "Leads the technical excellence of the system and creates plans to mitigate outages",
          "Quickly learns from others and consistently steps up when it is required",
          "Proactively supports other team members and helps them to be successful",
          "Mentors others to accelerate their career-growth and encourages them to participate",
          "Coordinates team members providing effective feedback and moderating discussions",
          "Manages the team members’ career, expectations, performance and level of happiness",
          "Follows the team processes, delivering a consistent flow of features to production",
          "Enforces the team processes, making sure everybody understands the benefits and tradeoffs",
          "Challenges the team processes, looking for ways to improve them",
          "Adjusts the team processes, listening to feedback and guiding the team through the changes",
          "Defines the right processes for the team’s maturity level, balancing agility and discipline",
          "Makes an impact on one or more subsystems",
          "Makes an impact on the whole team, not just on specific parts of it",
          "Makes an impact not only his/her team but also on other teams",
          "Makes an impact on the whole tech organization",
          "Makes an impact on the tech community"
         ],
         "mode": "text",
         "name": "Levels",
         "r": [
          1,
          2,
          3,
          4,
          5,
          1,
          2,
          3,
          4,
          5,
          1,
          2,
          3,
          4,
          5,
          1,
          2,
          3,
          4,
          5,
          1,
          2,
          3,
          4,
          5
         ],
         "text": [
          "Adopts",
          "Specializes",
          "Evangelizes",
          "Masters",
          "Creates",
          "Enhances",
          "Designs",
          "Owns",
          "Evolves",
          "Leads",
          "Learns",
          "Supports",
          "Mentors",
          "Coordinates",
          "Manages",
          "Follows",
          "Enforces",
          "Challenges",
          "Adjusts",
          "Defines",
          "Subsystem",
          "Team",
          "Multiple Teams",
          "Company",
          "Community"
         ],
         "textposition": "top center",
         "theta": [
          "Technology",
          "Technology",
          "Technology",
          "Technology",
          "Technology",
          "System",
          "System",
          "System",
          "System",
          "System",
          "People",
          "People",
          "People",
          "People",
          "People",
          "Process",
          "Process",
          "Process",
          "Process",
          "Process",
          "Influence",
          "Influence",
          "Influence",
          "Influence",
          "Influence"
         ],
         "type": "scatterpolar"
        },
        {
         "customdata": [
          [
           "Researches, creates proofs of concept and introduces new technologies to the team"
          ],
          [
           "Owns the production operation and monitoring of the system and is aware of its SLAs"
          ],
          [
           "Manages the team members’ career, expectations, performance and level of happiness"
          ],
          [
           "Adjusts the team processes, listening to feedback and guiding the team through the changes"
          ],
          [
           "Makes an impact on the whole team, not just on specific parts of it"
          ],
          [
           "Researches, creates proofs of concept and introduces new technologies to the team"
          ]
         ],
         "fill": "toself",
         "hovertemplate": "<b>%{hovertext}</b><br><br>title=EM5 - Engineering Manager 5<br>value=%{r}<br>axis=%{theta}<br>description=%{customdata[0]}<extra></extra>",
         "hovertext": [
          "EVANGELIZES",
          "OWNS",
          "MANAGES",
          "ADJUSTS",
          "TEAM",
          "EVANGELIZES"
         ],
         "legendgroup": "EM5 - Engineering Manager 5",
         "line": {
          "color": "#FF97FF",
          "dash": "solid"
         },
         "marker": {
          "symbol": "circle"
         },
         "mode": "lines",
         "name": "EM5 - Engineering Manager 5",
         "opacity": 0.5,
         "r": [
          3,
          3,
          5,
          4,
          2,
          3
         ],
         "showlegend": true,
         "subplot": "polar",
         "theta": [
          "Technology",
          "System",
          "People",
          "Process",
          "Influence",
          "Technology"
         ],
         "type": "scatterpolar"
        },
        {
         "customdata": [
          [
           "Researches, creates proofs of concept and introduces new technologies to the team"
          ],
          [
           "Evolves the architecture to support future requirements and defines its SLAs"
          ],
          [
           "Coordinates team members providing effective feedback and moderating discussions"
          ],
          [
           "Defines the right processes for the team’s maturity level, balancing agility and discipline"
          ],
          [
           "Makes an impact on the whole team, not just on specific parts of it"
          ],
          [
           "Researches, creates proofs of concept and introduces new technologies to the team"
          ]
         ],
         "fill": "toself",
         "hovertemplate": "<b>%{hovertext}</b><br><br>title=TL5 - Tech Lead 5<br>value=%{r}<br>axis=%{theta}<br>description=%{customdata[0]}<extra></extra>",
         "hovertext": [
          "EVANGELIZES",
          "EVOLVES",
          "COORDINATES",
          "DEFINES",
          "TEAM",
          "EVANGELIZES"
         ],
         "legendgroup": "TL5 - Tech Lead 5",
         "line": {
          "color": "#B6E880",
          "dash": "solid"
         },
         "marker": {
          "symbol": "circle"
         },
         "mode": "lines",
         "name": "TL5 - Tech Lead 5",
         "opacity": 0.5,
         "r": [
          3,
          4,
          4,
          5,
          2,
          3
         ],
         "showlegend": true,
         "subplot": "polar",
         "theta": [
          "Technology",
          "System",
          "People",
          "Process",
          "Influence",
          "Technology"
         ],
         "type": "scatterpolar"
        },
        {
         "customdata": [
          [
           "Is the go-to person for one or more technologies and takes initiative to learn new ones"
          ],
          [
           "Owns the production operation and monitoring of the system and is aware of its SLAs"
          ],
          [
           "Coordinates team members providing effective feedback and moderating discussions"
          ],
          [
           "Adjusts the team processes, listening to feedback and guiding the team through the changes"
          ],
          [
           "Makes an impact on one or more subsystems"
          ],
          [
           "Is the go-to person for one or more technologies and takes initiative to learn new ones"
          ]
         ],
         "fill": "toself",
         "hovertemplate": "<b>%{hovertext}</b><br><br>title=TL4 - Tech Lead 4<br>value=%{r}<br>axis=%{theta}<br>description=%{customdata[0]}<extra></extra>",
         "hovertext": [
          "SPECIALIZES",
          "OWNS",
          "COORDINATES",
          "ADJUSTS",
          "SUBSYSTEM",
          "SPECIALIZES"
         ],
         "legendgroup": "TL4 - Tech Lead 4",
         "line": {
          "color": "#FF6692",
          "dash": "solid"
         },
         "marker": {
          "symbol": "circle"
         },
         "mode": "lines",
         "name": "TL4 - Tech Lead 4",
         "opacity": 0.5,
         "r": [
          2,
          3,
          4,
          4,
          1,
          2
         ],
         "showlegend": true,
         "subplot": "polar",
         "theta": [
          "Technology",
          "System",
          "People",
          "Process",
          "Influence",
          "Technology"
         ],
         "type": "scatterpolar"
        },
        {
         "customdata": [
          [
           "Is the go-to person for one or more technologies and takes initiative to learn new ones"
          ],
          [
           "Designs and implements medium to large size features while reducing the system’s tech debt"
          ],
          [
           "Coordinates team members providing effective feedback and moderating discussions"
          ],
          [
           "Defines the right processes for the team’s maturity level, balancing agility and discipline"
          ],
          [
           "Makes an impact not only his/her team but also on other teams"
          ],
          [
           "Is the go-to person for one or more technologies and takes initiative to learn new ones"
          ]
         ],
         "fill": "toself",
         "hovertemplate": "<b>%{hovertext}</b><br><br>title=TPM5 - Technical Program Manager 5<br>value=%{r}<br>axis=%{theta}<br>description=%{customdata[0]}<extra></extra>",
         "hovertext": [
          "SPECIALIZES",
          "DESIGNS",
          "COORDINATES",
          "DEFINES",
          "MULTIPLE_TEAMS",
          "SPECIALIZES"
         ],
         "legendgroup": "TPM5 - Technical Program Manager 5",
         "line": {
          "color": "#19d3f3",
          "dash": "solid"
         },
         "marker": {
          "symbol": "circle"
         },
         "mode": "lines",
         "name": "TPM5 - Technical Program Manager 5",
         "opacity": 0.5,
         "r": [
          2,
          2,
          4,
          5,
          3,
          2
         ],
         "showlegend": true,
         "subplot": "polar",
         "theta": [
          "Technology",
          "System",
          "People",
          "Process",
          "Influence",
          "Technology"
         ],
         "type": "scatterpolar"
        },
        {
         "customdata": [
          [
           "Is the go-to person for one or more technologies and takes initiative to learn new ones"
          ],
          [
           "Designs and implements medium to large size features while reducing the system’s tech debt"
          ],
          [
           "Coordinates team members providing effective feedback and moderating discussions"
          ],
          [
           "Adjusts the team processes, listening to feedback and guiding the team through the changes"
          ],
          [
           "Makes an impact not only his/her team but also on other teams"
          ],
          [
           "Is the go-to person for one or more technologies and takes initiative to learn new ones"
          ]
         ],
         "fill": "toself",
         "hovertemplate": "<b>%{hovertext}</b><br><br>title=TPM4 - Technical Program Manager 4<br>value=%{r}<br>axis=%{theta}<br>description=%{customdata[0]}<extra></extra>",
         "hovertext": [
          "SPECIALIZES",
          "DESIGNS",
          "COORDINATES",
          "ADJUSTS",
          "MULTIPLE_TEAMS",
          "SPECIALIZES"
         ],
         "legendgroup": "TPM4 - Technical Program Manager 4",
         "line": {
          "color": "#FFA15A",
          "dash": "solid"
         },
         "marker": {
          "symbol": "circle"
         },
         "mode": "lines",
         "name": "TPM4 - Technical Program Manager 4",
         "opacity": 0.5,
         "r": [
          2,
          2,
          4,
          4,
          3,
          2
         ],
         "showlegend": true,
         "subplot": "polar",
         "theta": [
          "Technology",
          "System",
          "People",
          "Process",
          "Influence",
          "Technology"
         ],
         "type": "scatterpolar"
        },
        {
         "customdata": [
          [
           "Has very deep knowledge about the whole technology stack of the system"
          ],
          [
           "Evolves the architecture to support future requirements and defines its SLAs"
          ],
          [
           "Mentors others to accelerate their career-growth and encourages them to participate"
          ],
          [
           "Adjusts the team processes, listening to feedback and guiding the team through the changes"
          ],
          [
           "Makes an impact not only his/her team but also on other teams"
          ],
          [
           "Has very deep knowledge about the whole technology stack of the system"
          ]
         ],
         "fill": "toself",
         "hovertemplate": "<b>%{hovertext}</b><br><br>title=D5 - Developer 5<br>value=%{r}<br>axis=%{theta}<br>description=%{customdata[0]}<extra></extra>",
         "hovertext": [
          "MASTERS",
          "EVOLVES",
          "MENTORS",
          "ADJUSTS",
          "MULTIPLE_TEAMS",
          "MASTERS"
         ],
         "legendgroup": "D5 - Developer 5",
         "line": {
          "color": "#ab63fa",
          "dash": "solid"
         },
         "marker": {
          "symbol": "circle"
         },
         "mode": "lines",
         "name": "D5 - Developer 5",
         "opacity": 0.5,
         "r": [
          4,
          4,
          3,
          4,
          3,
          4
         ],
         "showlegend": true,
         "subplot": "polar",
         "theta": [
          "Technology",
          "System",
          "People",
          "Process",
          "Influence",
          "Technology"
         ],
         "type": "scatterpolar"
        },
        {
         "customdata": [
          [
           "Researches, creates proofs of concept and introduces new technologies to the team"
          ],
          [
           "Owns the production operation and monitoring of the system and is aware of its SLAs"
          ],
          [
           "Mentors others to accelerate their career-growth and encourages them to participate"
          ],
          [
           "Challenges the team processes, looking for ways to improve them"
          ],
          [
           "Makes an impact on the whole team, not just on specific parts of it"
          ],
          [
           "Researches, creates proofs of concept and introduces new technologies to the team"
          ]
         ],
         "fill": "toself",
         "hovertemplate": "<b>%{hovertext}</b><br><br>title=D4 - Developer 4<br>value=%{r}<br>axis=%{theta}<br>description=%{customdata[0]}<extra></extra>",
         "hovertext": [
          "EVANGELIZES",
          "OWNS",
          "MENTORS",
          "CHALLENGES",
          "TEAM",
          "EVANGELIZES"
         ],
         "legendgroup": "D4 - Developer 4",
         "line": {
          "color": "#00cc96",
          "dash": "solid"
         },
         "marker": {
          "symbol": "circle"
         },
         "mode": "lines",
         "name": "D4 - Developer 4",
         "opacity": 0.5,
         "r": [
          3,
          3,
          3,
          3,
          2,
          3
         ],
         "showlegend": true,
         "subplot": "polar",
         "theta": [
          "Technology",
          "System",
          "People",
          "Process",
          "Influence",
          "Technology"
         ],
         "type": "scatterpolar"
        },
        {
         "customdata": [
          [
           "Is the go-to person for one or more technologies and takes initiative to learn new ones"
          ],
          [
           "Designs and implements medium to large size features while reducing the system’s tech debt"
          ],
          [
           "Proactively supports other team members and helps them to be successful"
          ],
          [
           "Challenges the team processes, looking for ways to improve them"
          ],
          [
           "Makes an impact on the whole team, not just on specific parts of it"
          ],
          [
           "Is the go-to person for one or more technologies and takes initiative to learn new ones"
          ]
         ],
         "fill": "toself",
         "hovertemplate": "<b>%{hovertext}</b><br><br>title=D3 - Developer 3<br>value=%{r}<br>axis=%{theta}<br>description=%{customdata[0]}<extra></extra>",
         "hovertext": [
          "SPECIALIZES",
          "DESIGNS",
          "SUPPORTS",
          "CHALLENGES",
          "TEAM",
          "SPECIALIZES"
         ],
         "legendgroup": "D3 - Developer 3",
         "line": {
          "color": "#EF553B",
          "dash": "solid"
         },
         "marker": {
          "symbol": "circle"
         },
         "mode": "lines",
         "name": "D3 - Developer 3",
         "opacity": 0.5,
         "r": [
          2,
          2,
          2,
          3,
          2,
          2
         ],
         "showlegend": true,
         "subplot": "polar",
         "theta": [
          "Technology",
          "System",
          "People",
          "Process",
          "Influence",
          "Technology"
         ],
         "type": "scatterpolar"
        }
       ],
       "layout": {
        "height": 600,
        "legend": {
         "title": {
          "text": "title"
         },
         "tracegroupgap": 0
        },
        "margin": {
         "t": 60
        },
        "polar": {
         "angularaxis": {
          "rotation": 15,
          "tickfont": {
           "size": 30
          }
         },
         "domain": {
          "x": [
           0,
           1
          ],
          "y": [
           0,
           1
          ]
         },
         "gridshape": "linear",
         "radialaxis": {
          "dtick": 1,
          "range": [
           0,
           6
          ],
          "showline": false,
          "showticklabels": false,
          "visible": true
         }
        },
        "template": {
         "data": {
          "bar": [
           {
            "error_x": {
             "color": "#f2f5fa"
            },
            "error_y": {
             "color": "#f2f5fa"
            },
            "marker": {
             "line": {
              "color": "rgb(17,17,17)",
              "width": 0.5
             },
             "pattern": {
              "fillmode": "overlay",
              "size": 10,
              "solidity": 0.2
             }
            },
            "type": "bar"
           }
          ],
          "barpolar": [
           {
            "marker": {
             "line": {
              "color": "rgb(17,17,17)",
              "width": 0.5
             },
             "pattern": {
              "fillmode": "overlay",
              "size": 10,
              "solidity": 0.2
             }
            },
            "type": "barpolar"
           }
          ],
          "carpet": [
           {
            "aaxis": {
             "endlinecolor": "#A2B1C6",
             "gridcolor": "#506784",
             "linecolor": "#506784",
             "minorgridcolor": "#506784",
             "startlinecolor": "#A2B1C6"
            },
            "baxis": {
             "endlinecolor": "#A2B1C6",
             "gridcolor": "#506784",
             "linecolor": "#506784",
             "minorgridcolor": "#506784",
             "startlinecolor": "#A2B1C6"
            },
            "type": "carpet"
           }
          ],
          "choropleth": [
           {
            "colorbar": {
             "outlinewidth": 0,
             "ticks": ""
            },
            "type": "choropleth"
           }
          ],
          "contour": [
           {
            "colorbar": {
             "outlinewidth": 0,
             "ticks": ""
            },
            "colorscale": [
             [
              0,
              "#0d0887"
             ],
             [
              0.1111111111111111,
              "#46039f"
             ],
             [
              0.2222222222222222,
              "#7201a8"
             ],
             [
              0.3333333333333333,
              "#9c179e"
             ],
             [
              0.4444444444444444,
              "#bd3786"
             ],
             [
              0.5555555555555556,
              "#d8576b"
             ],
             [
              0.6666666666666666,
              "#ed7953"
             ],
             [
              0.7777777777777778,
              "#fb9f3a"
             ],
             [
              0.8888888888888888,
              "#fdca26"
             ],
             [
              1,
              "#f0f921"
             ]
            ],
            "type": "contour"
           }
          ],
          "contourcarpet": [
           {
            "colorbar": {
             "outlinewidth": 0,
             "ticks": ""
            },
            "type": "contourcarpet"
           }
          ],
          "heatmap": [
           {
            "colorbar": {
             "outlinewidth": 0,
             "ticks": ""
            },
            "colorscale": [
             [
              0,
              "#0d0887"
             ],
             [
              0.1111111111111111,
              "#46039f"
             ],
             [
              0.2222222222222222,
              "#7201a8"
             ],
             [
              0.3333333333333333,
              "#9c179e"
             ],
             [
              0.4444444444444444,
              "#bd3786"
             ],
             [
              0.5555555555555556,
              "#d8576b"
             ],
             [
              0.6666666666666666,
              "#ed7953"
             ],
             [
              0.7777777777777778,
              "#fb9f3a"
             ],
             [
              0.8888888888888888,
              "#fdca26"
             ],
             [
              1,
              "#f0f921"
             ]
            ],
            "type": "heatmap"
           }
          ],
          "heatmapgl": [
           {
            "colorbar": {
             "outlinewidth": 0,
             "ticks": ""
            },
            "colorscale": [
             [
              0,
              "#0d0887"
             ],
             [
              0.1111111111111111,
              "#46039f"
             ],
             [
              0.2222222222222222,
              "#7201a8"
             ],
             [
              0.3333333333333333,
              "#9c179e"
             ],
             [
              0.4444444444444444,
              "#bd3786"
             ],
             [
              0.5555555555555556,
              "#d8576b"
             ],
             [
              0.6666666666666666,
              "#ed7953"
             ],
             [
              0.7777777777777778,
              "#fb9f3a"
             ],
             [
              0.8888888888888888,
              "#fdca26"
             ],
             [
              1,
              "#f0f921"
             ]
            ],
            "type": "heatmapgl"
           }
          ],
          "histogram": [
           {
            "marker": {
             "pattern": {
              "fillmode": "overlay",
              "size": 10,
              "solidity": 0.2
             }
            },
            "type": "histogram"
           }
          ],
          "histogram2d": [
           {
            "colorbar": {
             "outlinewidth": 0,
             "ticks": ""
            },
            "colorscale": [
             [
              0,
              "#0d0887"
             ],
             [
              0.1111111111111111,
              "#46039f"
             ],
             [
              0.2222222222222222,
              "#7201a8"
             ],
             [
              0.3333333333333333,
              "#9c179e"
             ],
             [
              0.4444444444444444,
              "#bd3786"
             ],
             [
              0.5555555555555556,
              "#d8576b"
             ],
             [
              0.6666666666666666,
              "#ed7953"
             ],
             [
              0.7777777777777778,
              "#fb9f3a"
             ],
             [
              0.8888888888888888,
              "#fdca26"
             ],
             [
              1,
              "#f0f921"
             ]
            ],
            "type": "histogram2d"
           }
          ],
          "histogram2dcontour": [
           {
            "colorbar": {
             "outlinewidth": 0,
             "ticks": ""
            },
            "colorscale": [
             [
              0,
              "#0d0887"
             ],
             [
              0.1111111111111111,
              "#46039f"
             ],
             [
              0.2222222222222222,
              "#7201a8"
             ],
             [
              0.3333333333333333,
              "#9c179e"
             ],
             [
              0.4444444444444444,
              "#bd3786"
             ],
             [
              0.5555555555555556,
              "#d8576b"
             ],
             [
              0.6666666666666666,
              "#ed7953"
             ],
             [
              0.7777777777777778,
              "#fb9f3a"
             ],
             [
              0.8888888888888888,
              "#fdca26"
             ],
             [
              1,
              "#f0f921"
             ]
            ],
            "type": "histogram2dcontour"
           }
          ],
          "mesh3d": [
           {
            "colorbar": {
             "outlinewidth": 0,
             "ticks": ""
            },
            "type": "mesh3d"
           }
          ],
          "parcoords": [
           {
            "line": {
             "colorbar": {
              "outlinewidth": 0,
              "ticks": ""
             }
            },
            "type": "parcoords"
           }
          ],
          "pie": [
           {
            "automargin": true,
            "type": "pie"
           }
          ],
          "scatter": [
           {
            "marker": {
             "line": {
              "color": "#283442"
             }
            },
            "type": "scatter"
           }
          ],
          "scatter3d": [
           {
            "line": {
             "colorbar": {
              "outlinewidth": 0,
              "ticks": ""
             }
            },
            "marker": {
             "colorbar": {
              "outlinewidth": 0,
              "ticks": ""
             }
            },
            "type": "scatter3d"
           }
          ],
          "scattercarpet": [
           {
            "marker": {
             "colorbar": {
              "outlinewidth": 0,
              "ticks": ""
             }
            },
            "type": "scattercarpet"
           }
          ],
          "scattergeo": [
           {
            "marker": {
             "colorbar": {
              "outlinewidth": 0,
              "ticks": ""
             }
            },
            "type": "scattergeo"
           }
          ],
          "scattergl": [
           {
            "marker": {
             "line": {
              "color": "#283442"
             }
            },
            "type": "scattergl"
           }
          ],
          "scattermapbox": [
           {
            "marker": {
             "colorbar": {
              "outlinewidth": 0,
              "ticks": ""
             }
            },
            "type": "scattermapbox"
           }
          ],
          "scatterpolar": [
           {
            "marker": {
             "colorbar": {
              "outlinewidth": 0,
              "ticks": ""
             }
            },
            "type": "scatterpolar"
           }
          ],
          "scatterpolargl": [
           {
            "marker": {
             "colorbar": {
              "outlinewidth": 0,
              "ticks": ""
             }
            },
            "type": "scatterpolargl"
           }
          ],
          "scatterternary": [
           {
            "marker": {
             "colorbar": {
              "outlinewidth": 0,
              "ticks": ""
             }
            },
            "type": "scatterternary"
           }
          ],
          "surface": [
           {
            "colorbar": {
             "outlinewidth": 0,
             "ticks": ""
            },
            "colorscale": [
             [
              0,
              "#0d0887"
             ],
             [
              0.1111111111111111,
              "#46039f"
             ],
             [
              0.2222222222222222,
              "#7201a8"
             ],
             [
              0.3333333333333333,
              "#9c179e"
             ],
             [
              0.4444444444444444,
              "#bd3786"
             ],
             [
              0.5555555555555556,
              "#d8576b"
             ],
             [
              0.6666666666666666,
              "#ed7953"
             ],
             [
              0.7777777777777778,
              "#fb9f3a"
             ],
             [
              0.8888888888888888,
              "#fdca26"
             ],
             [
              1,
              "#f0f921"
             ]
            ],
            "type": "surface"
           }
          ],
          "table": [
           {
            "cells": {
             "fill": {
              "color": "#506784"
             },
             "line": {
              "color": "rgb(17,17,17)"
             }
            },
            "header": {
             "fill": {
              "color": "#2a3f5f"
             },
             "line": {
              "color": "rgb(17,17,17)"
             }
            },
            "type": "table"
           }
          ]
         },
         "layout": {
          "annotationdefaults": {
           "arrowcolor": "#f2f5fa",
           "arrowhead": 0,
           "arrowwidth": 1
          },
          "autotypenumbers": "strict",
          "coloraxis": {
           "colorbar": {
            "outlinewidth": 0,
            "ticks": ""
           }
          },
          "colorscale": {
           "diverging": [
            [
             0,
             "#8e0152"
            ],
            [
             0.1,
             "#c51b7d"
            ],
            [
             0.2,
             "#de77ae"
            ],
            [
             0.3,
             "#f1b6da"
            ],
            [
             0.4,
             "#fde0ef"
            ],
            [
             0.5,
             "#f7f7f7"
            ],
            [
             0.6,
             "#e6f5d0"
            ],
            [
             0.7,
             "#b8e186"
            ],
            [
             0.8,
             "#7fbc41"
            ],
            [
             0.9,
             "#4d9221"
            ],
            [
             1,
             "#276419"
            ]
           ],
           "sequential": [
            [
             0,
             "#0d0887"
            ],
            [
             0.1111111111111111,
             "#46039f"
            ],
            [
             0.2222222222222222,
             "#7201a8"
            ],
            [
             0.3333333333333333,
             "#9c179e"
            ],
            [
             0.4444444444444444,
             "#bd3786"
            ],
            [
             0.5555555555555556,
             "#d8576b"
            ],
            [
             0.6666666666666666,
             "#ed7953"
            ],
            [
             0.7777777777777778,
             "#fb9f3a"
            ],
            [
             0.8888888888888888,
             "#fdca26"
            ],
            [
             1,
             "#f0f921"
            ]
           ],
           "sequentialminus": [
            [
             0,
             "#0d0887"
            ],
            [
             0.1111111111111111,
             "#46039f"
            ],
            [
             0.2222222222222222,
             "#7201a8"
            ],
            [
             0.3333333333333333,
             "#9c179e"
            ],
            [
             0.4444444444444444,
             "#bd3786"
            ],
            [
             0.5555555555555556,
             "#d8576b"
            ],
            [
             0.6666666666666666,
             "#ed7953"
            ],
            [
             0.7777777777777778,
             "#fb9f3a"
            ],
            [
             0.8888888888888888,
             "#fdca26"
            ],
            [
             1,
             "#f0f921"
            ]
           ]
          },
          "colorway": [
           "#636efa",
           "#EF553B",
           "#00cc96",
           "#ab63fa",
           "#FFA15A",
           "#19d3f3",
           "#FF6692",
           "#B6E880",
           "#FF97FF",
           "#FECB52"
          ],
          "font": {
           "color": "#f2f5fa"
          },
          "geo": {
           "bgcolor": "rgb(17,17,17)",
           "lakecolor": "rgb(17,17,17)",
           "landcolor": "rgb(17,17,17)",
           "showlakes": true,
           "showland": true,
           "subunitcolor": "#506784"
          },
          "hoverlabel": {
           "align": "left"
          },
          "hovermode": "closest",
          "mapbox": {
           "style": "dark"
          },
          "paper_bgcolor": "rgb(17,17,17)",
          "plot_bgcolor": "rgb(17,17,17)",
          "polar": {
           "angularaxis": {
            "gridcolor": "#506784",
            "linecolor": "#506784",
            "ticks": ""
           },
           "bgcolor": "rgb(17,17,17)",
           "radialaxis": {
            "gridcolor": "#506784",
            "linecolor": "#506784",
            "ticks": ""
           }
          },
          "scene": {
           "xaxis": {
            "backgroundcolor": "rgb(17,17,17)",
            "gridcolor": "#506784",
            "gridwidth": 2,
            "linecolor": "#506784",
            "showbackground": true,
            "ticks": "",
            "zerolinecolor": "#C8D4E3"
           },
           "yaxis": {
            "backgroundcolor": "rgb(17,17,17)",
            "gridcolor": "#506784",
            "gridwidth": 2,
            "linecolor": "#506784",
            "showbackground": true,
            "ticks": "",
            "zerolinecolor": "#C8D4E3"
           },
           "zaxis": {
            "backgroundcolor": "rgb(17,17,17)",
            "gridcolor": "#506784",
            "gridwidth": 2,
            "linecolor": "#506784",
            "showbackground": true,
            "ticks": "",
            "zerolinecolor": "#C8D4E3"
           }
          },
          "shapedefaults": {
           "line": {
            "color": "#f2f5fa"
           }
          },
          "sliderdefaults": {
           "bgcolor": "#C8D4E3",
           "bordercolor": "rgb(17,17,17)",
           "borderwidth": 1,
           "tickwidth": 0
          },
          "ternary": {
           "aaxis": {
            "gridcolor": "#506784",
            "linecolor": "#506784",
            "ticks": ""
           },
           "baxis": {
            "gridcolor": "#506784",
            "linecolor": "#506784",
            "ticks": ""
           },
           "bgcolor": "rgb(17,17,17)",
           "caxis": {
            "gridcolor": "#506784",
            "linecolor": "#506784",
            "ticks": ""
           }
          },
          "title": {
           "x": 0.05
          },
          "updatemenudefaults": {
           "bgcolor": "#506784",
           "borderwidth": 0
          },
          "xaxis": {
           "automargin": true,
           "gridcolor": "#283442",
           "linecolor": "#506784",
           "ticks": "",
           "title": {
            "standoff": 15
           },
           "zerolinecolor": "#283442",
           "zerolinewidth": 2
          },
          "yaxis": {
           "automargin": true,
           "gridcolor": "#283442",
           "linecolor": "#506784",
           "ticks": "",
           "title": {
            "standoff": 15
           },
           "zerolinecolor": "#283442",
           "zerolinewidth": 2
          }
         }
        }
       }
      }
     },
     "metadata": {},
     "output_type": "display_data"
    }
   ],
   "source": [
    "plot_engineering_ladders([report, *levels(min=3, max=5)], template=\"plotly_dark\", height=600)"
   ]
  },
  {
   "cell_type": "code",
   "execution_count": 25,
   "id": "71f59d16-b676-4549-958a-506db477bd93",
   "metadata": {},
   "outputs": [
    {
     "data": {
      "application/vnd.plotly.v1+json": {
       "config": {
        "plotlyServerURL": "https://plot.ly"
       },
       "data": [
        {
         "hovertemplate": [
          "Actively learns and adopts the technology and tools defined by the team",
          "Is the go-to person for one or more technologies and takes initiative to learn new ones",
          "Researches, creates proofs of concept and introduces new technologies to the team",
          "Has very deep knowledge about the whole technology stack of the system",
          "Designs and creates new technologies that are widely used either by internal or external teams",
          "Successfully pushes new features and bug fixes to improve and extend the system",
          "Designs and implements medium to large size features while reducing the system’s tech debt",
          "Owns the production operation and monitoring of the system and is aware of its SLAs",
          "Evolves the architecture to support future requirements and defines its SLAs",
          "Leads the technical excellence of the system and creates plans to mitigate outages",
          "Quickly learns from others and consistently steps up when it is required",
          "Proactively supports other team members and helps them to be successful",
          "Mentors others to accelerate their career-growth and encourages them to participate",
          "Coordinates team members providing effective feedback and moderating discussions",
          "Manages the team members’ career, expectations, performance and level of happiness",
          "Follows the team processes, delivering a consistent flow of features to production",
          "Enforces the team processes, making sure everybody understands the benefits and tradeoffs",
          "Challenges the team processes, looking for ways to improve them",
          "Adjusts the team processes, listening to feedback and guiding the team through the changes",
          "Defines the right processes for the team’s maturity level, balancing agility and discipline",
          "Makes an impact on one or more subsystems",
          "Makes an impact on the whole team, not just on specific parts of it",
          "Makes an impact not only his/her team but also on other teams",
          "Makes an impact on the whole tech organization",
          "Makes an impact on the tech community"
         ],
         "mode": "text",
         "name": "Levels",
         "r": [
          1,
          2,
          3,
          4,
          5,
          1,
          2,
          3,
          4,
          5,
          1,
          2,
          3,
          4,
          5,
          1,
          2,
          3,
          4,
          5,
          1,
          2,
          3,
          4,
          5
         ],
         "text": [
          "Adopts",
          "Specializes",
          "Evangelizes",
          "Masters",
          "Creates",
          "Enhances",
          "Designs",
          "Owns",
          "Evolves",
          "Leads",
          "Learns",
          "Supports",
          "Mentors",
          "Coordinates",
          "Manages",
          "Follows",
          "Enforces",
          "Challenges",
          "Adjusts",
          "Defines",
          "Subsystem",
          "Team",
          "Multiple Teams",
          "Company",
          "Community"
         ],
         "textposition": "top center",
         "theta": [
          "Technology",
          "Technology",
          "Technology",
          "Technology",
          "Technology",
          "System",
          "System",
          "System",
          "System",
          "System",
          "People",
          "People",
          "People",
          "People",
          "People",
          "Process",
          "Process",
          "Process",
          "Process",
          "Process",
          "Influence",
          "Influence",
          "Influence",
          "Influence",
          "Influence"
         ],
         "type": "scatterpolar"
        },
        {
         "customdata": [
          [
           "Researches, creates proofs of concept and introduces new technologies to the team"
          ],
          [
           "Evolves the architecture to support future requirements and defines its SLAs"
          ],
          [
           "Manages the team members’ career, expectations, performance and level of happiness"
          ],
          [
           "Defines the right processes for the team’s maturity level, balancing agility and discipline"
          ],
          [
           "Makes an impact not only his/her team but also on other teams"
          ],
          [
           "Researches, creates proofs of concept and introduces new technologies to the team"
          ]
         ],
         "fill": "toself",
         "hovertemplate": "<b>%{hovertext}</b><br><br>title=EM7 - Engineering Manager 7<br>value=%{r}<br>axis=%{theta}<br>description=%{customdata[0]}<extra></extra>",
         "hovertext": [
          "EVANGELIZES",
          "EVOLVES",
          "MANAGES",
          "DEFINES",
          "MULTIPLE_TEAMS",
          "EVANGELIZES"
         ],
         "legendgroup": "EM7 - Engineering Manager 7",
         "line": {
          "color": "#00cc96",
          "dash": "solid"
         },
         "marker": {
          "symbol": "circle"
         },
         "mode": "lines",
         "name": "EM7 - Engineering Manager 7",
         "opacity": 0.2,
         "r": [
          3,
          4,
          5,
          5,
          3,
          3
         ],
         "showlegend": true,
         "subplot": "polar",
         "theta": [
          "Technology",
          "System",
          "People",
          "Process",
          "Influence",
          "Technology"
         ],
         "type": "scatterpolar"
        },
        {
         "customdata": [
          [
           "Researches, creates proofs of concept and introduces new technologies to the team"
          ],
          [
           "Evolves the architecture to support future requirements and defines its SLAs"
          ],
          [
           "Manages the team members’ career, expectations, performance and level of happiness"
          ],
          [
           "Defines the right processes for the team’s maturity level, balancing agility and discipline"
          ],
          [
           "Makes an impact on the whole team, not just on specific parts of it"
          ],
          [
           "Researches, creates proofs of concept and introduces new technologies to the team"
          ]
         ],
         "fill": "toself",
         "hovertemplate": "<b>%{hovertext}</b><br><br>title=EM6 - Engineering Manager 6<br>value=%{r}<br>axis=%{theta}<br>description=%{customdata[0]}<extra></extra>",
         "hovertext": [
          "EVANGELIZES",
          "EVOLVES",
          "MANAGES",
          "DEFINES",
          "TEAM",
          "EVANGELIZES"
         ],
         "legendgroup": "EM6 - Engineering Manager 6",
         "line": {
          "color": "#EF553B",
          "dash": "solid"
         },
         "marker": {
          "symbol": "circle"
         },
         "mode": "lines",
         "name": "EM6 - Engineering Manager 6",
         "opacity": 0.2,
         "r": [
          3,
          4,
          5,
          5,
          2,
          3
         ],
         "showlegend": true,
         "subplot": "polar",
         "theta": [
          "Technology",
          "System",
          "People",
          "Process",
          "Influence",
          "Technology"
         ],
         "type": "scatterpolar"
        },
        {
         "customdata": [
          [
           "Researches, creates proofs of concept and introduces new technologies to the team"
          ],
          [
           "Owns the production operation and monitoring of the system and is aware of its SLAs"
          ],
          [
           "Manages the team members’ career, expectations, performance and level of happiness"
          ],
          [
           "Adjusts the team processes, listening to feedback and guiding the team through the changes"
          ],
          [
           "Makes an impact on the whole team, not just on specific parts of it"
          ],
          [
           "Researches, creates proofs of concept and introduces new technologies to the team"
          ]
         ],
         "fill": "toself",
         "hovertemplate": "<b>%{hovertext}</b><br><br>title=EM5 - Engineering Manager 5<br>value=%{r}<br>axis=%{theta}<br>description=%{customdata[0]}<extra></extra>",
         "hovertext": [
          "EVANGELIZES",
          "OWNS",
          "MANAGES",
          "ADJUSTS",
          "TEAM",
          "EVANGELIZES"
         ],
         "legendgroup": "EM5 - Engineering Manager 5",
         "line": {
          "color": "#636efa",
          "dash": "solid"
         },
         "marker": {
          "symbol": "circle"
         },
         "mode": "lines",
         "name": "EM5 - Engineering Manager 5",
         "opacity": 0.2,
         "r": [
          3,
          3,
          5,
          4,
          2,
          3
         ],
         "showlegend": true,
         "subplot": "polar",
         "theta": [
          "Technology",
          "System",
          "People",
          "Process",
          "Influence",
          "Technology"
         ],
         "type": "scatterpolar"
        },
        {
         "customdata": [
          [
           "Has very deep knowledge about the whole technology stack of the system"
          ],
          [
           "Leads the technical excellence of the system and creates plans to mitigate outages"
          ],
          [
           "Coordinates team members providing effective feedback and moderating discussions"
          ],
          [
           "Defines the right processes for the team’s maturity level, balancing agility and discipline"
          ],
          [
           "Makes an impact on the whole tech organization"
          ],
          [
           "Has very deep knowledge about the whole technology stack of the system"
          ]
         ],
         "fill": "toself",
         "hovertemplate": "<b>%{hovertext}</b><br><br>title=TL7 - Tech Lead 7<br>value=%{r}<br>axis=%{theta}<br>description=%{customdata[0]}<extra></extra>",
         "hovertext": [
          "MASTERS",
          "LEADS",
          "COORDINATES",
          "DEFINES",
          "COMPANY",
          "MASTERS"
         ],
         "legendgroup": "TL7 - Tech Lead 7",
         "line": {
          "color": "#FECB52",
          "dash": "solid"
         },
         "marker": {
          "symbol": "circle"
         },
         "mode": "lines",
         "name": "TL7 - Tech Lead 7",
         "opacity": 0.2,
         "r": [
          4,
          5,
          4,
          5,
          4,
          4
         ],
         "showlegend": true,
         "subplot": "polar",
         "theta": [
          "Technology",
          "System",
          "People",
          "Process",
          "Influence",
          "Technology"
         ],
         "type": "scatterpolar"
        },
        {
         "customdata": [
          [
           "Has very deep knowledge about the whole technology stack of the system"
          ],
          [
           "Leads the technical excellence of the system and creates plans to mitigate outages"
          ],
          [
           "Coordinates team members providing effective feedback and moderating discussions"
          ],
          [
           "Defines the right processes for the team’s maturity level, balancing agility and discipline"
          ],
          [
           "Makes an impact not only his/her team but also on other teams"
          ],
          [
           "Has very deep knowledge about the whole technology stack of the system"
          ]
         ],
         "fill": "toself",
         "hovertemplate": "<b>%{hovertext}</b><br><br>title=TL6 - Tech Lead 6<br>value=%{r}<br>axis=%{theta}<br>description=%{customdata[0]}<extra></extra>",
         "hovertext": [
          "MASTERS",
          "LEADS",
          "COORDINATES",
          "DEFINES",
          "MULTIPLE_TEAMS",
          "MASTERS"
         ],
         "legendgroup": "TL6 - Tech Lead 6",
         "line": {
          "color": "#FF97FF",
          "dash": "solid"
         },
         "marker": {
          "symbol": "circle"
         },
         "mode": "lines",
         "name": "TL6 - Tech Lead 6",
         "opacity": 0.2,
         "r": [
          4,
          5,
          4,
          5,
          3,
          4
         ],
         "showlegend": true,
         "subplot": "polar",
         "theta": [
          "Technology",
          "System",
          "People",
          "Process",
          "Influence",
          "Technology"
         ],
         "type": "scatterpolar"
        },
        {
         "customdata": [
          [
           "Researches, creates proofs of concept and introduces new technologies to the team"
          ],
          [
           "Evolves the architecture to support future requirements and defines its SLAs"
          ],
          [
           "Coordinates team members providing effective feedback and moderating discussions"
          ],
          [
           "Defines the right processes for the team’s maturity level, balancing agility and discipline"
          ],
          [
           "Makes an impact on the whole team, not just on specific parts of it"
          ],
          [
           "Researches, creates proofs of concept and introduces new technologies to the team"
          ]
         ],
         "fill": "toself",
         "hovertemplate": "<b>%{hovertext}</b><br><br>title=TL5 - Tech Lead 5<br>value=%{r}<br>axis=%{theta}<br>description=%{customdata[0]}<extra></extra>",
         "hovertext": [
          "EVANGELIZES",
          "EVOLVES",
          "COORDINATES",
          "DEFINES",
          "TEAM",
          "EVANGELIZES"
         ],
         "legendgroup": "TL5 - Tech Lead 5",
         "line": {
          "color": "#B6E880",
          "dash": "solid"
         },
         "marker": {
          "symbol": "circle"
         },
         "mode": "lines",
         "name": "TL5 - Tech Lead 5",
         "opacity": 0.2,
         "r": [
          3,
          4,
          4,
          5,
          2,
          3
         ],
         "showlegend": true,
         "subplot": "polar",
         "theta": [
          "Technology",
          "System",
          "People",
          "Process",
          "Influence",
          "Technology"
         ],
         "type": "scatterpolar"
        },
        {
         "customdata": [
          [
           "Is the go-to person for one or more technologies and takes initiative to learn new ones"
          ],
          [
           "Evolves the architecture to support future requirements and defines its SLAs"
          ],
          [
           "Manages the team members’ career, expectations, performance and level of happiness"
          ],
          [
           "Defines the right processes for the team’s maturity level, balancing agility and discipline"
          ],
          [
           "Makes an impact on the tech community"
          ],
          [
           "Is the go-to person for one or more technologies and takes initiative to learn new ones"
          ]
         ],
         "fill": "toself",
         "hovertemplate": "<b>%{hovertext}</b><br><br>title=TPM7 - Technical Program Manager 7<br>value=%{r}<br>axis=%{theta}<br>description=%{customdata[0]}<extra></extra>",
         "hovertext": [
          "SPECIALIZES",
          "EVOLVES",
          "MANAGES",
          "DEFINES",
          "COMMUNITY",
          "SPECIALIZES"
         ],
         "legendgroup": "TPM7 - Technical Program Manager 7",
         "line": {
          "color": "#FF6692",
          "dash": "solid"
         },
         "marker": {
          "symbol": "circle"
         },
         "mode": "lines",
         "name": "TPM7 - Technical Program Manager 7",
         "opacity": 0.2,
         "r": [
          2,
          4,
          5,
          5,
          5,
          2
         ],
         "showlegend": true,
         "subplot": "polar",
         "theta": [
          "Technology",
          "System",
          "People",
          "Process",
          "Influence",
          "Technology"
         ],
         "type": "scatterpolar"
        },
        {
         "customdata": [
          [
           "Is the go-to person for one or more technologies and takes initiative to learn new ones"
          ],
          [
           "Owns the production operation and monitoring of the system and is aware of its SLAs"
          ],
          [
           "Manages the team members’ career, expectations, performance and level of happiness"
          ],
          [
           "Defines the right processes for the team’s maturity level, balancing agility and discipline"
          ],
          [
           "Makes an impact on the whole tech organization"
          ],
          [
           "Is the go-to person for one or more technologies and takes initiative to learn new ones"
          ]
         ],
         "fill": "toself",
         "hovertemplate": "<b>%{hovertext}</b><br><br>title=TPM6 - Technical Program Manager 6<br>value=%{r}<br>axis=%{theta}<br>description=%{customdata[0]}<extra></extra>",
         "hovertext": [
          "SPECIALIZES",
          "OWNS",
          "MANAGES",
          "DEFINES",
          "COMPANY",
          "SPECIALIZES"
         ],
         "legendgroup": "TPM6 - Technical Program Manager 6",
         "line": {
          "color": "#19d3f3",
          "dash": "solid"
         },
         "marker": {
          "symbol": "circle"
         },
         "mode": "lines",
         "name": "TPM6 - Technical Program Manager 6",
         "opacity": 0.2,
         "r": [
          2,
          3,
          5,
          5,
          4,
          2
         ],
         "showlegend": true,
         "subplot": "polar",
         "theta": [
          "Technology",
          "System",
          "People",
          "Process",
          "Influence",
          "Technology"
         ],
         "type": "scatterpolar"
        },
        {
         "customdata": [
          [
           "Is the go-to person for one or more technologies and takes initiative to learn new ones"
          ],
          [
           "Designs and implements medium to large size features while reducing the system’s tech debt"
          ],
          [
           "Coordinates team members providing effective feedback and moderating discussions"
          ],
          [
           "Defines the right processes for the team’s maturity level, balancing agility and discipline"
          ],
          [
           "Makes an impact not only his/her team but also on other teams"
          ],
          [
           "Is the go-to person for one or more technologies and takes initiative to learn new ones"
          ]
         ],
         "fill": "toself",
         "hovertemplate": "<b>%{hovertext}</b><br><br>title=TPM5 - Technical Program Manager 5<br>value=%{r}<br>axis=%{theta}<br>description=%{customdata[0]}<extra></extra>",
         "hovertext": [
          "SPECIALIZES",
          "DESIGNS",
          "COORDINATES",
          "DEFINES",
          "MULTIPLE_TEAMS",
          "SPECIALIZES"
         ],
         "legendgroup": "TPM5 - Technical Program Manager 5",
         "line": {
          "color": "#FFA15A",
          "dash": "solid"
         },
         "marker": {
          "symbol": "circle"
         },
         "mode": "lines",
         "name": "TPM5 - Technical Program Manager 5",
         "opacity": 0.2,
         "r": [
          2,
          2,
          4,
          5,
          3,
          2
         ],
         "showlegend": true,
         "subplot": "polar",
         "theta": [
          "Technology",
          "System",
          "People",
          "Process",
          "Influence",
          "Technology"
         ],
         "type": "scatterpolar"
        },
        {
         "customdata": [
          [
           "Designs and creates new technologies that are widely used either by internal or external teams"
          ],
          [
           "Leads the technical excellence of the system and creates plans to mitigate outages"
          ],
          [
           "Mentors others to accelerate their career-growth and encourages them to participate"
          ],
          [
           "Adjusts the team processes, listening to feedback and guiding the team through the changes"
          ],
          [
           "Makes an impact on the tech community"
          ],
          [
           "Designs and creates new technologies that are widely used either by internal or external teams"
          ]
         ],
         "fill": "toself",
         "hovertemplate": "<b>%{hovertext}</b><br><br>title=D7 - Developer 7<br>value=%{r}<br>axis=%{theta}<br>description=%{customdata[0]}<extra></extra>",
         "hovertext": [
          "CREATES",
          "LEADS",
          "MENTORS",
          "ADJUSTS",
          "COMMUNITY",
          "CREATES"
         ],
         "legendgroup": "D7 - Developer 7",
         "line": {
          "color": "#ab63fa",
          "dash": "solid"
         },
         "marker": {
          "symbol": "circle"
         },
         "mode": "lines",
         "name": "D7 - Developer 7",
         "opacity": 0.2,
         "r": [
          5,
          5,
          3,
          4,
          5,
          5
         ],
         "showlegend": true,
         "subplot": "polar",
         "theta": [
          "Technology",
          "System",
          "People",
          "Process",
          "Influence",
          "Technology"
         ],
         "type": "scatterpolar"
        },
        {
         "customdata": [
          [
           "Designs and creates new technologies that are widely used either by internal or external teams"
          ],
          [
           "Leads the technical excellence of the system and creates plans to mitigate outages"
          ],
          [
           "Mentors others to accelerate their career-growth and encourages them to participate"
          ],
          [
           "Adjusts the team processes, listening to feedback and guiding the team through the changes"
          ],
          [
           "Makes an impact on the whole tech organization"
          ],
          [
           "Designs and creates new technologies that are widely used either by internal or external teams"
          ]
         ],
         "fill": "toself",
         "hovertemplate": "<b>%{hovertext}</b><br><br>title=D6 - Developer 6<br>value=%{r}<br>axis=%{theta}<br>description=%{customdata[0]}<extra></extra>",
         "hovertext": [
          "CREATES",
          "LEADS",
          "MENTORS",
          "ADJUSTS",
          "COMPANY",
          "CREATES"
         ],
         "legendgroup": "D6 - Developer 6",
         "line": {
          "color": "#00cc96",
          "dash": "solid"
         },
         "marker": {
          "symbol": "circle"
         },
         "mode": "lines",
         "name": "D6 - Developer 6",
         "opacity": 0.2,
         "r": [
          5,
          5,
          3,
          4,
          4,
          5
         ],
         "showlegend": true,
         "subplot": "polar",
         "theta": [
          "Technology",
          "System",
          "People",
          "Process",
          "Influence",
          "Technology"
         ],
         "type": "scatterpolar"
        },
        {
         "customdata": [
          [
           "Has very deep knowledge about the whole technology stack of the system"
          ],
          [
           "Evolves the architecture to support future requirements and defines its SLAs"
          ],
          [
           "Mentors others to accelerate their career-growth and encourages them to participate"
          ],
          [
           "Adjusts the team processes, listening to feedback and guiding the team through the changes"
          ],
          [
           "Makes an impact not only his/her team but also on other teams"
          ],
          [
           "Has very deep knowledge about the whole technology stack of the system"
          ]
         ],
         "fill": "toself",
         "hovertemplate": "<b>%{hovertext}</b><br><br>title=D5 - Developer 5<br>value=%{r}<br>axis=%{theta}<br>description=%{customdata[0]}<extra></extra>",
         "hovertext": [
          "MASTERS",
          "EVOLVES",
          "MENTORS",
          "ADJUSTS",
          "MULTIPLE_TEAMS",
          "MASTERS"
         ],
         "legendgroup": "D5 - Developer 5",
         "line": {
          "color": "#EF553B",
          "dash": "solid"
         },
         "marker": {
          "symbol": "circle"
         },
         "mode": "lines",
         "name": "D5 - Developer 5",
         "opacity": 0.2,
         "r": [
          4,
          4,
          3,
          4,
          3,
          4
         ],
         "showlegend": true,
         "subplot": "polar",
         "theta": [
          "Technology",
          "System",
          "People",
          "Process",
          "Influence",
          "Technology"
         ],
         "type": "scatterpolar"
        },
        {
         "customdata": [
          [
           "Has very deep knowledge about the whole technology stack of the system"
          ],
          [
           "Evolves the architecture to support future requirements and defines its SLAs"
          ],
          [
           "Manages the team members’ career, expectations, performance and level of happiness"
          ],
          [
           "Defines the right processes for the team’s maturity level, balancing agility and discipline"
          ],
          [
           "Makes an impact on the tech community"
          ],
          [
           "Has very deep knowledge about the whole technology stack of the system"
          ]
         ],
         "fill": "toself",
         "hovertemplate": "<b>%{hovertext}</b><br><br>title=me<br>value=%{r}<br>axis=%{theta}<br>description=%{customdata[0]}<extra></extra>",
         "hovertext": [
          "MASTERS",
          "EVOLVES",
          "MANAGES",
          "DEFINES",
          "COMMUNITY",
          "MASTERS"
         ],
         "legendgroup": "me",
         "line": {
          "color": "#636efa",
          "dash": "solid"
         },
         "marker": {
          "symbol": "circle"
         },
         "mode": "lines",
         "name": "me",
         "opacity": 0.2,
         "r": [
          4,
          4,
          5,
          5,
          5,
          4
         ],
         "showlegend": true,
         "subplot": "polar",
         "theta": [
          "Technology",
          "System",
          "People",
          "Process",
          "Influence",
          "Technology"
         ],
         "type": "scatterpolar"
        }
       ],
       "layout": {
        "height": 600,
        "legend": {
         "title": {
          "text": "title"
         },
         "tracegroupgap": 0
        },
        "margin": {
         "t": 60
        },
        "polar": {
         "angularaxis": {
          "rotation": 15,
          "tickfont": {
           "size": 30
          }
         },
         "domain": {
          "x": [
           0,
           1
          ],
          "y": [
           0,
           1
          ]
         },
         "gridshape": "linear",
         "radialaxis": {
          "dtick": 1,
          "range": [
           0,
           6
          ],
          "showline": false,
          "showticklabels": false,
          "visible": true
         }
        },
        "template": {
         "data": {
          "bar": [
           {
            "error_x": {
             "color": "#f2f5fa"
            },
            "error_y": {
             "color": "#f2f5fa"
            },
            "marker": {
             "line": {
              "color": "rgb(17,17,17)",
              "width": 0.5
             },
             "pattern": {
              "fillmode": "overlay",
              "size": 10,
              "solidity": 0.2
             }
            },
            "type": "bar"
           }
          ],
          "barpolar": [
           {
            "marker": {
             "line": {
              "color": "rgb(17,17,17)",
              "width": 0.5
             },
             "pattern": {
              "fillmode": "overlay",
              "size": 10,
              "solidity": 0.2
             }
            },
            "type": "barpolar"
           }
          ],
          "carpet": [
           {
            "aaxis": {
             "endlinecolor": "#A2B1C6",
             "gridcolor": "#506784",
             "linecolor": "#506784",
             "minorgridcolor": "#506784",
             "startlinecolor": "#A2B1C6"
            },
            "baxis": {
             "endlinecolor": "#A2B1C6",
             "gridcolor": "#506784",
             "linecolor": "#506784",
             "minorgridcolor": "#506784",
             "startlinecolor": "#A2B1C6"
            },
            "type": "carpet"
           }
          ],
          "choropleth": [
           {
            "colorbar": {
             "outlinewidth": 0,
             "ticks": ""
            },
            "type": "choropleth"
           }
          ],
          "contour": [
           {
            "colorbar": {
             "outlinewidth": 0,
             "ticks": ""
            },
            "colorscale": [
             [
              0,
              "#0d0887"
             ],
             [
              0.1111111111111111,
              "#46039f"
             ],
             [
              0.2222222222222222,
              "#7201a8"
             ],
             [
              0.3333333333333333,
              "#9c179e"
             ],
             [
              0.4444444444444444,
              "#bd3786"
             ],
             [
              0.5555555555555556,
              "#d8576b"
             ],
             [
              0.6666666666666666,
              "#ed7953"
             ],
             [
              0.7777777777777778,
              "#fb9f3a"
             ],
             [
              0.8888888888888888,
              "#fdca26"
             ],
             [
              1,
              "#f0f921"
             ]
            ],
            "type": "contour"
           }
          ],
          "contourcarpet": [
           {
            "colorbar": {
             "outlinewidth": 0,
             "ticks": ""
            },
            "type": "contourcarpet"
           }
          ],
          "heatmap": [
           {
            "colorbar": {
             "outlinewidth": 0,
             "ticks": ""
            },
            "colorscale": [
             [
              0,
              "#0d0887"
             ],
             [
              0.1111111111111111,
              "#46039f"
             ],
             [
              0.2222222222222222,
              "#7201a8"
             ],
             [
              0.3333333333333333,
              "#9c179e"
             ],
             [
              0.4444444444444444,
              "#bd3786"
             ],
             [
              0.5555555555555556,
              "#d8576b"
             ],
             [
              0.6666666666666666,
              "#ed7953"
             ],
             [
              0.7777777777777778,
              "#fb9f3a"
             ],
             [
              0.8888888888888888,
              "#fdca26"
             ],
             [
              1,
              "#f0f921"
             ]
            ],
            "type": "heatmap"
           }
          ],
          "heatmapgl": [
           {
            "colorbar": {
             "outlinewidth": 0,
             "ticks": ""
            },
            "colorscale": [
             [
              0,
              "#0d0887"
             ],
             [
              0.1111111111111111,
              "#46039f"
             ],
             [
              0.2222222222222222,
              "#7201a8"
             ],
             [
              0.3333333333333333,
              "#9c179e"
             ],
             [
              0.4444444444444444,
              "#bd3786"
             ],
             [
              0.5555555555555556,
              "#d8576b"
             ],
             [
              0.6666666666666666,
              "#ed7953"
             ],
             [
              0.7777777777777778,
              "#fb9f3a"
             ],
             [
              0.8888888888888888,
              "#fdca26"
             ],
             [
              1,
              "#f0f921"
             ]
            ],
            "type": "heatmapgl"
           }
          ],
          "histogram": [
           {
            "marker": {
             "pattern": {
              "fillmode": "overlay",
              "size": 10,
              "solidity": 0.2
             }
            },
            "type": "histogram"
           }
          ],
          "histogram2d": [
           {
            "colorbar": {
             "outlinewidth": 0,
             "ticks": ""
            },
            "colorscale": [
             [
              0,
              "#0d0887"
             ],
             [
              0.1111111111111111,
              "#46039f"
             ],
             [
              0.2222222222222222,
              "#7201a8"
             ],
             [
              0.3333333333333333,
              "#9c179e"
             ],
             [
              0.4444444444444444,
              "#bd3786"
             ],
             [
              0.5555555555555556,
              "#d8576b"
             ],
             [
              0.6666666666666666,
              "#ed7953"
             ],
             [
              0.7777777777777778,
              "#fb9f3a"
             ],
             [
              0.8888888888888888,
              "#fdca26"
             ],
             [
              1,
              "#f0f921"
             ]
            ],
            "type": "histogram2d"
           }
          ],
          "histogram2dcontour": [
           {
            "colorbar": {
             "outlinewidth": 0,
             "ticks": ""
            },
            "colorscale": [
             [
              0,
              "#0d0887"
             ],
             [
              0.1111111111111111,
              "#46039f"
             ],
             [
              0.2222222222222222,
              "#7201a8"
             ],
             [
              0.3333333333333333,
              "#9c179e"
             ],
             [
              0.4444444444444444,
              "#bd3786"
             ],
             [
              0.5555555555555556,
              "#d8576b"
             ],
             [
              0.6666666666666666,
              "#ed7953"
             ],
             [
              0.7777777777777778,
              "#fb9f3a"
             ],
             [
              0.8888888888888888,
              "#fdca26"
             ],
             [
              1,
              "#f0f921"
             ]
            ],
            "type": "histogram2dcontour"
           }
          ],
          "mesh3d": [
           {
            "colorbar": {
             "outlinewidth": 0,
             "ticks": ""
            },
            "type": "mesh3d"
           }
          ],
          "parcoords": [
           {
            "line": {
             "colorbar": {
              "outlinewidth": 0,
              "ticks": ""
             }
            },
            "type": "parcoords"
           }
          ],
          "pie": [
           {
            "automargin": true,
            "type": "pie"
           }
          ],
          "scatter": [
           {
            "marker": {
             "line": {
              "color": "#283442"
             }
            },
            "type": "scatter"
           }
          ],
          "scatter3d": [
           {
            "line": {
             "colorbar": {
              "outlinewidth": 0,
              "ticks": ""
             }
            },
            "marker": {
             "colorbar": {
              "outlinewidth": 0,
              "ticks": ""
             }
            },
            "type": "scatter3d"
           }
          ],
          "scattercarpet": [
           {
            "marker": {
             "colorbar": {
              "outlinewidth": 0,
              "ticks": ""
             }
            },
            "type": "scattercarpet"
           }
          ],
          "scattergeo": [
           {
            "marker": {
             "colorbar": {
              "outlinewidth": 0,
              "ticks": ""
             }
            },
            "type": "scattergeo"
           }
          ],
          "scattergl": [
           {
            "marker": {
             "line": {
              "color": "#283442"
             }
            },
            "type": "scattergl"
           }
          ],
          "scattermapbox": [
           {
            "marker": {
             "colorbar": {
              "outlinewidth": 0,
              "ticks": ""
             }
            },
            "type": "scattermapbox"
           }
          ],
          "scatterpolar": [
           {
            "marker": {
             "colorbar": {
              "outlinewidth": 0,
              "ticks": ""
             }
            },
            "type": "scatterpolar"
           }
          ],
          "scatterpolargl": [
           {
            "marker": {
             "colorbar": {
              "outlinewidth": 0,
              "ticks": ""
             }
            },
            "type": "scatterpolargl"
           }
          ],
          "scatterternary": [
           {
            "marker": {
             "colorbar": {
              "outlinewidth": 0,
              "ticks": ""
             }
            },
            "type": "scatterternary"
           }
          ],
          "surface": [
           {
            "colorbar": {
             "outlinewidth": 0,
             "ticks": ""
            },
            "colorscale": [
             [
              0,
              "#0d0887"
             ],
             [
              0.1111111111111111,
              "#46039f"
             ],
             [
              0.2222222222222222,
              "#7201a8"
             ],
             [
              0.3333333333333333,
              "#9c179e"
             ],
             [
              0.4444444444444444,
              "#bd3786"
             ],
             [
              0.5555555555555556,
              "#d8576b"
             ],
             [
              0.6666666666666666,
              "#ed7953"
             ],
             [
              0.7777777777777778,
              "#fb9f3a"
             ],
             [
              0.8888888888888888,
              "#fdca26"
             ],
             [
              1,
              "#f0f921"
             ]
            ],
            "type": "surface"
           }
          ],
          "table": [
           {
            "cells": {
             "fill": {
              "color": "#506784"
             },
             "line": {
              "color": "rgb(17,17,17)"
             }
            },
            "header": {
             "fill": {
              "color": "#2a3f5f"
             },
             "line": {
              "color": "rgb(17,17,17)"
             }
            },
            "type": "table"
           }
          ]
         },
         "layout": {
          "annotationdefaults": {
           "arrowcolor": "#f2f5fa",
           "arrowhead": 0,
           "arrowwidth": 1
          },
          "autotypenumbers": "strict",
          "coloraxis": {
           "colorbar": {
            "outlinewidth": 0,
            "ticks": ""
           }
          },
          "colorscale": {
           "diverging": [
            [
             0,
             "#8e0152"
            ],
            [
             0.1,
             "#c51b7d"
            ],
            [
             0.2,
             "#de77ae"
            ],
            [
             0.3,
             "#f1b6da"
            ],
            [
             0.4,
             "#fde0ef"
            ],
            [
             0.5,
             "#f7f7f7"
            ],
            [
             0.6,
             "#e6f5d0"
            ],
            [
             0.7,
             "#b8e186"
            ],
            [
             0.8,
             "#7fbc41"
            ],
            [
             0.9,
             "#4d9221"
            ],
            [
             1,
             "#276419"
            ]
           ],
           "sequential": [
            [
             0,
             "#0d0887"
            ],
            [
             0.1111111111111111,
             "#46039f"
            ],
            [
             0.2222222222222222,
             "#7201a8"
            ],
            [
             0.3333333333333333,
             "#9c179e"
            ],
            [
             0.4444444444444444,
             "#bd3786"
            ],
            [
             0.5555555555555556,
             "#d8576b"
            ],
            [
             0.6666666666666666,
             "#ed7953"
            ],
            [
             0.7777777777777778,
             "#fb9f3a"
            ],
            [
             0.8888888888888888,
             "#fdca26"
            ],
            [
             1,
             "#f0f921"
            ]
           ],
           "sequentialminus": [
            [
             0,
             "#0d0887"
            ],
            [
             0.1111111111111111,
             "#46039f"
            ],
            [
             0.2222222222222222,
             "#7201a8"
            ],
            [
             0.3333333333333333,
             "#9c179e"
            ],
            [
             0.4444444444444444,
             "#bd3786"
            ],
            [
             0.5555555555555556,
             "#d8576b"
            ],
            [
             0.6666666666666666,
             "#ed7953"
            ],
            [
             0.7777777777777778,
             "#fb9f3a"
            ],
            [
             0.8888888888888888,
             "#fdca26"
            ],
            [
             1,
             "#f0f921"
            ]
           ]
          },
          "colorway": [
           "#636efa",
           "#EF553B",
           "#00cc96",
           "#ab63fa",
           "#FFA15A",
           "#19d3f3",
           "#FF6692",
           "#B6E880",
           "#FF97FF",
           "#FECB52"
          ],
          "font": {
           "color": "#f2f5fa"
          },
          "geo": {
           "bgcolor": "rgb(17,17,17)",
           "lakecolor": "rgb(17,17,17)",
           "landcolor": "rgb(17,17,17)",
           "showlakes": true,
           "showland": true,
           "subunitcolor": "#506784"
          },
          "hoverlabel": {
           "align": "left"
          },
          "hovermode": "closest",
          "mapbox": {
           "style": "dark"
          },
          "paper_bgcolor": "rgb(17,17,17)",
          "plot_bgcolor": "rgb(17,17,17)",
          "polar": {
           "angularaxis": {
            "gridcolor": "#506784",
            "linecolor": "#506784",
            "ticks": ""
           },
           "bgcolor": "rgb(17,17,17)",
           "radialaxis": {
            "gridcolor": "#506784",
            "linecolor": "#506784",
            "ticks": ""
           }
          },
          "scene": {
           "xaxis": {
            "backgroundcolor": "rgb(17,17,17)",
            "gridcolor": "#506784",
            "gridwidth": 2,
            "linecolor": "#506784",
            "showbackground": true,
            "ticks": "",
            "zerolinecolor": "#C8D4E3"
           },
           "yaxis": {
            "backgroundcolor": "rgb(17,17,17)",
            "gridcolor": "#506784",
            "gridwidth": 2,
            "linecolor": "#506784",
            "showbackground": true,
            "ticks": "",
            "zerolinecolor": "#C8D4E3"
           },
           "zaxis": {
            "backgroundcolor": "rgb(17,17,17)",
            "gridcolor": "#506784",
            "gridwidth": 2,
            "linecolor": "#506784",
            "showbackground": true,
            "ticks": "",
            "zerolinecolor": "#C8D4E3"
           }
          },
          "shapedefaults": {
           "line": {
            "color": "#f2f5fa"
           }
          },
          "sliderdefaults": {
           "bgcolor": "#C8D4E3",
           "bordercolor": "rgb(17,17,17)",
           "borderwidth": 1,
           "tickwidth": 0
          },
          "ternary": {
           "aaxis": {
            "gridcolor": "#506784",
            "linecolor": "#506784",
            "ticks": ""
           },
           "baxis": {
            "gridcolor": "#506784",
            "linecolor": "#506784",
            "ticks": ""
           },
           "bgcolor": "rgb(17,17,17)",
           "caxis": {
            "gridcolor": "#506784",
            "linecolor": "#506784",
            "ticks": ""
           }
          },
          "title": {
           "x": 0.05
          },
          "updatemenudefaults": {
           "bgcolor": "#506784",
           "borderwidth": 0
          },
          "xaxis": {
           "automargin": true,
           "gridcolor": "#283442",
           "linecolor": "#506784",
           "ticks": "",
           "title": {
            "standoff": 15
           },
           "zerolinecolor": "#283442",
           "zerolinewidth": 2
          },
          "yaxis": {
           "automargin": true,
           "gridcolor": "#283442",
           "linecolor": "#506784",
           "ticks": "",
           "title": {
            "standoff": 15
           },
           "zerolinecolor": "#283442",
           "zerolinewidth": 2
          }
         }
        }
       }
      }
     },
     "metadata": {},
     "output_type": "display_data"
    }
   ],
   "source": [
    "plot_engineering_ladders([me, *levels(min=5)], template=\"plotly_dark\", height=600).update_traces(opacity=0.2, selector=lambda trace: trace.name!=\"Levels\")"
   ]
  },
  {
   "cell_type": "markdown",
   "id": "eb6880ce",
   "metadata": {},
   "source": [
    "### Closest Levels on the Ladder(s)"
   ]
  },
  {
   "cell_type": "code",
   "execution_count": 26,
   "id": "6b1e57eb",
   "metadata": {},
   "outputs": [
    {
     "data": {
      "text/plain": [
       "[Engineer(technology=<Technology.MASTERS: 4>, system=<System.LEADS: 5>, people=<People.COORDINATES: 4>, process=<Process.DEFINES: 5>, influence=<Influence.COMPANY: 4>, title='TL7 - Tech Lead 7', level=7, senior=True),\n",
       " Engineer(technology=<Technology.SPECIALIZES: 2>, system=<System.EVOLVES: 4>, people=<People.MANAGES: 5>, process=<Process.DEFINES: 5>, influence=<Influence.COMMUNITY: 5>, title='TPM7 - Technical Program Manager 7', level=7, senior=True),\n",
       " Engineer(technology=<Technology.EVANGELIZES: 3>, system=<System.EVOLVES: 4>, people=<People.MANAGES: 5>, process=<Process.DEFINES: 5>, influence=<Influence.MULTIPLE_TEAMS: 3>, title='EM7 - Engineering Manager 7', level=7, senior=True)]"
      ]
     },
     "execution_count": 26,
     "metadata": {},
     "output_type": "execute_result"
    }
   ],
   "source": [
    "levels_near(me, n=3)"
   ]
  },
  {
   "cell_type": "markdown",
   "id": "0ad665ae-2fed-48f6-a959-5fce9987dd21",
   "metadata": {},
   "source": [
    "## Dash App"
   ]
  },
  {
   "cell_type": "code",
   "execution_count": 27,
   "id": "5fcc7560",
   "metadata": {},
   "outputs": [],
   "source": [
    "from dash import Output, Input, State, html, Dash, dcc, ALL, MATCH\n",
    "import dash_bootstrap_components as dbc"
   ]
  },
  {
   "cell_type": "code",
   "execution_count": 39,
   "id": "b903ba2e",
   "metadata": {},
   "outputs": [
    {
     "name": "stdout",
     "output_type": "stream",
     "text": [
      "Dash app running on http://127.0.0.1:8050/\n"
     ]
    }
   ],
   "source": [
    "app = Dash(title=\"Engineering Ladders\", external_stylesheets=[dbc.themes.LUX])\n",
    "\n",
    "app.layout = html.Div([\n",
    "    dbc.NavbarSimple(\n",
    "        brand=app.title,\n",
    "        children=[\n",
    "            dbc.NavItem(dbc.NavLink(\"The framework\", href=\"https://www.engineeringladders.com/\")),\n",
    "        ]\n",
    "    ),\n",
    "    dbc.Container([\n",
    "        dbc.Row([\n",
    "            dbc.Col([\n",
    "                *[dbc.Row([\n",
    "                    html.Div(style={\"height\":\"fit-content\"}, children=[\n",
    "                    #dbc.InputGroup([\n",
    "                        html.Label(ladder.__name__),\n",
    "                        dcc.Slider(marks={level.value: {\n",
    "                            \"label\": level.name.title(), \n",
    "                            \"style\":{\n",
    "                                \"font-size\":10, \n",
    "                                #\"transform\":\"rotate(-30deg)\"s\n",
    "                                \"writing-mode\": \"vertical-rl\",\n",
    "                            }\n",
    "                            } for level in ladder}, min=1, max=5, id={\"type\":\"ladder_slider\", \"index\":ladder.__name__}, value=1, step=1)\n",
    "                    ])\n",
    "                    ]) for ladder in ATTRIBUTES\n",
    "                ],\n",
    "                dcc.Markdown(id=\"summary-markdown\"),\n",
    "                # dcc.Markdown(engineering_ladders_faqs_markdown),\n",
    "            ], width=4),\n",
    "            dbc.Col([\n",
    "                dcc.Graph(figure=None, id=\"figure\")\n",
    "            ], width=8)\n",
    "        ])\n",
    "    ])\n",
    "])\n",
    "\n",
    "@app.callback(\n",
    "    Output(\"figure\",\"figure\"),\n",
    "    Output(\"summary-markdown\", \"children\"),\n",
    "    State({'type': 'ladder_slider', 'index': ALL}, 'id'),\n",
    "    Input(component_id={\"type\":\"ladder_slider\", \"index\": ALL}, component_property=\"value\")\n",
    ")\n",
    "def update_my_ladder_plot(ids, values): # TODO only redraw the trace for me\n",
    "    sliders = {id[\"index\"].lower(): value for id, value in zip(ids,values)}\n",
    "    me = Engineer(**sliders, title=\"me\")\n",
    "    ladders_fig = plot_engineering_ladders([me,*levels_near(me, n=3)])\\\n",
    "        .update_layout(legend=dict(\n",
    "        orientation=\"h\",\n",
    "        yref=\"container\",\n",
    "        xref=\"container\",\n",
    "        title=\"Levels\",\n",
    "        #yanchor=\"bottom\",\n",
    "        y=0.0\n",
    "    ))\n",
    "    \n",
    "    #ladders_fig.update_traces(visible=\"legendonly\", selector=lambda trace: trace.name not in [\"Levels\", \"me\"])\n",
    "    #ladders_fig.update_traces(opacity=0.5, selector=lambda trace: trace.name!=\"Levels\")\\\n",
    "    ladders_fig.update_traces(opacity=0.3, selector=lambda trace: trace.name not in [\"me\",\"Levels\"])\\\n",
    "    \n",
    "    markdown = \"\\n\".join([f\"* **{level.__class__.__name__}**: {level.name}, {level.description}\" for level in me.enums.values()])\n",
    "    return ladders_fig, markdown\n",
    "\n",
    "\n",
    "app.run(debug=True, jupyter_mode=\"external\")"
   ]
  },
  {
   "cell_type": "markdown",
   "id": "04bb940b",
   "metadata": {},
   "source": [
    "### TODO:\n",
    "\n",
    "* Better way to browse levels and compare to self (not always show the closest X?)\n",
    "* Fix slider size, larger text and better spacing\n",
    "* Better way to summarize / show text for your choices -- self-only view?"
   ]
  },
  {
   "cell_type": "markdown",
   "id": "e5668335",
   "metadata": {},
   "source": [
    "## Other Things\n",
    "\n",
    "* Other ladders, e.g. https://career-ladders.dev/engineering/\n",
    "* Custom mappings, like \n",
    "\n",
    "```python\n",
    "level_mapping = {\n",
    "    1: \"L7\",\n",
    "    2: \"L8\",\n",
    "    3: \"L9\",\n",
    "    4: \"L9\",\n",
    "    5: \"L10\",\n",
    "    6: \"L11\",\n",
    "    7: \"DE\",\n",
    "}\n",
    "```"
   ]
  }
 ],
 "metadata": {
  "kernelspec": {
   "display_name": "Python 3 (ipykernel)",
   "language": "python",
   "name": "python3"
  },
  "language_info": {
   "codemirror_mode": {
    "name": "ipython",
    "version": 3
   },
   "file_extension": ".py",
   "mimetype": "text/x-python",
   "name": "python",
   "nbconvert_exporter": "python",
   "pygments_lexer": "ipython3",
   "version": "3.11.0rc1"
  }
 },
 "nbformat": 4,
 "nbformat_minor": 5
}
